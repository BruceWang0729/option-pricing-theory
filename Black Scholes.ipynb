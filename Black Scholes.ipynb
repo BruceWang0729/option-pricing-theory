{
 "cells": [
  {
   "cell_type": "code",
   "execution_count": 4,
   "id": "ff2fa55f",
   "metadata": {},
   "outputs": [],
   "source": [
    "import numpy as np\n",
    "import matplotlib.pyplot as plt\n",
    "import scipy.stats as ss"
   ]
  },
  {
   "cell_type": "markdown",
   "id": "aa56e38c",
   "metadata": {},
   "source": [
    "# Black Scholes Model"
   ]
  },
  {
   "cell_type": "markdown",
   "id": "b79646dc",
   "metadata": {},
   "source": [
    "<font size=5 >*1. General Assumptions*</font>\n",
    "\n",
    "There are 6 different assumptions behind the Black Scholes Formula:\n",
    "- The risk free interest rate is constant and known\n",
    "- The stock price follows a Geometric Brownian motion with a constant drift $\\mu$ and volatility $\\sigma$. \n",
    "_$$ dS=\\mu Sdt + \\sigma SdW(t) $$_\n",
    "- There are no transaction costs or taxes, the proceeds of shorting asset can be done in an easy way\n",
    "- All securities are perfectly divisible.\n",
    "- The stock pays no dividends.\n",
    "- There are noe risk free arbitrage opportunities.\n",
    "\n",
    "  \n",
    "<font size=5 >*2. BS Formula*</font>\n",
    "\n",
    "Under the Black-Scholes Model, the best method to price a vanilla European option is to use BS closed formula.\n",
    "\n",
    "So the price for an European call on a non-dividend pyaing stock using **risk-neutral** probability measure is: \n",
    "$$ C (t, T, S_t, K, r, \\sigma) = S_tN(d_1) - Ke^{-r(T-t)}N(d_2) $$\n",
    "\n",
    "with\n",
    "\n",
    "$$ d_1 = \\frac{\\log \\biggl( \\frac{S_t}{K}\\biggr) + \\biggl(r + \\frac{\\sigma^2}{2} \\biggr) (T-t) }{\\sigma \\sqrt {T-t}}  \\quad \\mbox{and} \\quad d_2=d_1 - \\sigma \\sqrt{T-t} $$\n",
    "\n",
    "where _N_ is the cumulative distribution function (cdf) of a standard normal random variable. \n",
    "$$N(x)=\\int_{-\\infty}^{x}{\\frac{1}{\\sqrt{2\\pi}}}e^{{-y^2}/2}{\\rm d}y $$\n",
    "\n",
    "\n",
    "Under the **risk-neutral** probability measure, the _**drift**_ of stock price in GBM equation becomes the risk-free interest rate _r(t)_ , and the stock price, $S_t$ follows:\n",
    "_$$ dS=r(t) Sdt + \\sigma SdW(t) $$_  \n",
    "**Risk-neutral** measure allows the option to be priced as the discounted value of its expected payoff with the risk-free interest rate:  \n",
    "_$$V(t)=E\\biggl[e^{-\\int_r^T{r(u)}{\\rm d}u}V(T)\\bigg|S(t)\\biggr]$$_  \n",
    "where _V(T)_ is the payoff at maturity _T_.\n",
    "\n",
    "If _r_ is constant, the formula above can be simplified as $V(t)=e^{-rt}E[V(T)|S(t)]$.  \n",
    "\n",
    "And if we apply Ito's lemma, the GBM equation(under risk-neutral probability measure) will become a new equation:  \n",
    "\n",
    "$$d(ln(s)) = (r - {\\sigma^2}/2)dt + \\sigma dW(t) \\Rightarrow lnS_t \\sim N(lnS + (r - {\\sigma^2}/2)\\tau,\\sigma^2\\tau)$$  \n",
    "\n",
    "So $S_t = Se^{(r-{\\sigma^2}/2)\\tau + \\sigma\\sqrt{\\tau}{\\epsilon}}$, where $\\epsilon \\sim N(0, 1)$. For a European option, we have:  \n",
    "\n",
    "$$ V(T)=\\begin{cases}S_0e^{(r-{\\sigma^2}/2)\\tau + \\sigma\\sqrt{\\tau}{\\epsilon}}-K, \\quad if \\ Se^{(r-{\\sigma^2}/2)\\tau + \\sigma\\sqrt{\\tau}{\\epsilon}}>K \\\\ 0,              \\qquad \\qquad \\qquad \\qquad otherwise\\end{cases}$$  \n",
    "\n",
    "$$Se^{(r-{\\sigma^2}/2)\\tau + \\sigma\\sqrt{\\tau}{\\epsilon}}>K \\Rightarrow \\epsilon > \\frac{\\log \\biggl( \\frac{K}{S}\\biggr) - \\biggl(r - \\frac{\\sigma^2}{2} \\biggr)\\tau }{\\sigma \\sqrt{t}} $$\n",
    "\n",
    "_$$E[V(T)|S(t)] = E[max(S_t - K, 0)|S]={\\int_{-d_2}^{\\infty}\\big(Se^{(r-{\\sigma^2}/2)\\tau + \\sigma\\sqrt{\\tau}{\\epsilon}}-K\\big){\\frac{1}{\\sqrt{2\\pi}}}e^{{-\\epsilon^2}/2}{\\rm d}\\epsilon}$$_\n",
    "_$$\\qquad\\quad=Se^{rt}\\int_{-d_2}^{\\infty}{\\frac{1}{\\sqrt{2\\pi}}}e^{\\frac{-({\\epsilon-\\sqrt{\\tau}\\sigma})^2}{2}}{\\rm d}\\epsilon - K\\int_{-d_2}^{\\infty}{\\frac{1}{\\sqrt{2\\pi}}}e^{\\frac{{-\\epsilon}^2}{2}}{\\rm d}\\epsilon$$_\n",
    "\n",
    "\n",
    "Suppose $\\widetilde\\epsilon=\\epsilon-\\sigma\\sqrt\\tau$, then _$$d\\epsilon=d\\widetilde\\epsilon, \\epsilon=-d_2 \\Rightarrow \\widetilde\\epsilon = -d_2-\\sigma\\sqrt\\tau=-d_1,$$_  \n",
    "so $$\\begin{cases}Se^{rt}\\int_{-d_2}^{\\infty}{\\frac{1}{\\sqrt{2\\pi}}}e^{\\frac{-({\\epsilon-\\sqrt{\\tau}\\sigma})^2}{2}}{\\rm d}\\epsilon=Se^{rt}N(d_1)\\\\K\\int_{-d_2}^{\\infty}{\\frac{1}{\\sqrt{2\\pi}}}e^{\\frac{{-\\epsilon}^2}{2}}{\\rm d}\\epsilon=K(1-N(-d_2))=K(N(d_2))\\end{cases}$$\n",
    "\n",
    "So $E[V(T)]=Se^{rt}N(d_1)-KN(d_2)$ and,\n",
    "\n",
    "_$$C (t, T, S_t, K, r, \\sigma)=V(t)=e^{-rt}E[V(T)]=SN(d_1)-Ke^{-rt}N(d_2)$$_\n",
    "\n",
    "\n",
    "So the formula for a put is:\n",
    "\n",
    "$$ P (t, T, S_t, K, r, \\sigma) = Ke^{-r(T-t)}N(-d_2)-S_tN(-d_1) $$\n",
    "\n",
    "<font size=5 >*3. Partial Differential Equation*</font>\n",
    "\n",
    "Before I start to introduce the PDE version of Black-Scholes-Merton Model, I need to tell you something about Ito's lemma.\n",
    "\n",
    "- Ito's Lemma:\n",
    "\n",
    "**f**: $R^2 \\rightarrow R$ is a quadratic continuous differentiable function, and S is a diffusion process, which satisfies the following equation:\n",
    "\n",
    "_$$dS_t = m_tdt + v_tdZ_t$$_\n",
    "\n",
    "Z is a Standard Brownain motion. So for the equation _f(S, t)_ ,its marginal change w.r.t time, _df(S,t)_, is:  \n",
    "\n",
    "$$df(S, t) = {\\frac{\\partial f}{\\partial S}}dS + {\\frac{1}{2}}{\\frac{{\\partial}^2 {f}}{\\partial S^2}{v^2}_tdS^2} + {\\frac{\\partial f}{\\partial t}}dt$$\n",
    "\n",
    "\n",
    "Suppose the value of an European Call option is V and its value, _V (S, t)_,depends on the price of underlying asset S and the time t. So, according to the **Ito's lemma**, we can gent a new equation:\n",
    "\n",
    "$$dV= {\\frac{\\partial V}{\\partial S}}dS + {\\frac{1}{2}}{\\frac{{\\partial}^2 {V}}{\\partial S^2}v^2dS^2} + {\\frac{\\partial V}{\\partial t}}dt$$\n",
    "\n",
    "Since the price of underlying asset follow _**Geometric Brownian motion**_, and $v=\\sigma S$, so, we can conclude:\n",
    "\n",
    "$$dV= {\\frac{\\partial V}{\\partial S}}(rSdt + \\sigma SdZ_t)+ {\\frac{1}{2}}{\\frac{{\\partial}^2 {V}}{\\partial S^2}{\\sigma}^2{S}^2dt} + {\\frac{\\partial V}{\\partial t}}dt$$\n",
    "$$=\\sigma S{\\frac{\\partial V}{\\partial S}}{\\rm d}Z_t + \\bigg(rs{\\frac{\\partial V}{\\partial S}}+{\\frac{1}{2}}{\\frac{{\\partial}^2 {V}}{\\partial S^2}{\\sigma}^2{S}^2} + {\\frac{\\partial V}{\\partial t}}\\bigg)dt$$\n",
    "\n",
    "\n",
    "Now, we can define the delta of European Call option is $\\Delta_t$:\n",
    "$$\\Delta_t \\equiv {\\frac{\\partial V_t}{\\partial S_t}}$$\n",
    "\n",
    "We can construct a portfolio $\\Pi_0 = V_0 - \\Delta_0 S_0$, which means this portfolio is constructed by longing one unit of European Call option and shorting $\\Delta$ units of underlying asset. In order to understand how this portfolio changes over time, we can get a new equation: \n",
    "\n",
    "$$\\begin{cases}{\\rm d}\\Pi=\\sigma S({\\frac{\\partial V}{\\partial S}} - \\Delta){\\rm d}Z_t + \\bigg(rs{\\frac{\\partial V}{\\partial S}}+{\\frac{1}{2}}{\\frac{{\\partial}^2 {V}}{\\partial S^2}{\\sigma}^2{S}^2} + {\\frac{\\partial V}{\\partial t} - r\\Delta S}\\bigg)dt\\\\\\Delta_t \\equiv {\\frac{\\partial V_t}{\\partial S_t}}\\end{cases}$$\n",
    "\n",
    "$${\\rm d}\\Delta = \\bigg({\\frac{1}{2}}{\\frac{{\\partial}^2 {V}}{\\partial S^2}{\\sigma}^2{S}^2} + {\\frac{\\partial V}{\\partial t}\\bigg)dt}$$\n",
    "\n",
    "Since we add $\\Delta$ units of short assets, our portfolio becomes a risk-free portfolio. In order to avoding arbitrage, the profit of  risk-free portfolio must satisify risk-free rate. So, we must set ${\\rm d}\\Pi = r\\Pi {\\rm d}t$,\n",
    "\n",
    "\n",
    "So, the above formula becomes like this:\n",
    "$$r\\bigg(V - {\\frac{\\partial V}{\\partial S}S}\\bigg){\\rm d}t = \\bigg({\\frac{1}{2}}{\\frac{{\\partial}^2 {V}}{\\partial S^2}{\\sigma}^2{S}^2} + {\\frac{\\partial V}{\\partial t}\\bigg)dt}$$\n",
    "\n",
    "Having made some changes, we can get the most famous Black-Scholes model in the version of PDE, which can be used to calculated the analytical solutin of European Call option:\n",
    "$${\\frac{\\partial V}{\\partial S}} + {\\frac{1}{2}}{\\frac{{\\partial}^2 {V}}{\\partial S^2}{\\sigma}^2{S}^2} + {\\frac{\\partial V}{\\partial t}} - rV = 0$$"
   ]
  },
  {
   "cell_type": "markdown",
   "id": "39527b94",
   "metadata": {},
   "source": [
    "<font size=5 > *4. Pricing Program* </font>  \n",
    "\n",
    "\n",
    "In this section, I will introduce 3 different methods to pricing European Vanilla Option\n",
    "- Binomial Tree\n",
    "- Monte Carlo simulation\n",
    "- BS formula\n",
    "\n",
    "Suppose $S_0 = 100$, K=100, T = 1.0(annually), r = 0.05, sigma = 0.2, we can use the sample codes attached below to calculate the price of ATM European Call Option \n"
   ]
  },
  {
   "cell_type": "code",
   "execution_count": 78,
   "id": "689e965d",
   "metadata": {},
   "outputs": [],
   "source": [
    "S0=100\n",
    "K=100\n",
    "r=0.05\n",
    "T=1\n",
    "sigma=0.2"
   ]
  },
  {
   "cell_type": "markdown",
   "id": "b1dd358d",
   "metadata": {},
   "source": [
    "<font size=3 > a)$\\space$ Binomial Tree </font>  \n",
    "\n",
    "Under the **risk-neutral** measure, \n",
    "\n",
    "$$S_t = e^{-r\\Delta t}{E^Q_{t}[S_{t+\\Delta t}]}$$\n",
    "$$\\qquad\\qquad\\qquad\\space\\space=e^{r\\Delta t}(q\\cdot u\\cdot S_t + (1 - q)\\cdot d\\cdot S_t)$$\n",
    "\n",
    "Under the **risk-neutral (martingale)** measure,\n",
    "\n",
    "$$\\begin{cases}q=\\frac{e^{r\\Delta t}{-d}}{u - d}\\\\u = e^{\\sigma\\sqrt{dt}}\\\\d=\\frac{1}{u}\\end{cases}$$"
   ]
  },
  {
   "cell_type": "code",
   "execution_count": 81,
   "id": "0ceab6f7",
   "metadata": {},
   "outputs": [],
   "source": [
    "# Binomial Tree\n",
    "def Binomial_Tree(S0,K,r,T,sigma,Type):\n",
    "    N=10000\n",
    "    dT = T/N\n",
    "    u = np.exp(sigma*np.sqrt(dT))\n",
    "    d = 1/u\n",
    "    V = np.zeros(N+1)\n",
    "    S_t = np.array([(S0 * u**i *d**(N-i)) for i in range (N+1)])\n",
    "    ret = np.exp(r*dT)\n",
    "    p = (ret-d)/(u-d)\n",
    "    q = 1-p\n",
    "    if Type==\"call\":\n",
    "        V[:] = np.maximum(S_t - K, 0)\n",
    "    elif Type=='put':\n",
    "        V[:] = np.maximum(K - S_t, 0)\n",
    "    else:\n",
    "        print(\"The type error\")\n",
    "\n",
    "    for i in range(N-1, -1,-1):\n",
    "        V[:-1] = np.exp(-r * dT)*(p*V[1:] + q*V[:-1])\n",
    "    return V[0]"
   ]
  },
  {
   "cell_type": "code",
   "execution_count": 82,
   "id": "24d0b852",
   "metadata": {},
   "outputs": [
    {
     "name": "stdout",
     "output_type": "stream",
     "text": [
      "The price of European call Option via Binomial Tree method is 10.450383602854469\n",
      "The price of European put Option via Binomial Tree method is 5.57332605291331\n"
     ]
    }
   ],
   "source": [
    "Type='call'\n",
    "print(\"The price of European %s Option via Binomial Tree method is %s\"\n",
    "      %(Type,Binomial_Tree(S0,K,r,T,sigma,Type)))\n",
    "Type='put'\n",
    "print(\"The price of European %s Option via Binomial Tree method is %s\"\n",
    "      %(Type,Binomial_Tree(S0,K,r,T,sigma,Type)))"
   ]
  },
  {
   "cell_type": "markdown",
   "id": "24c4d43b",
   "metadata": {},
   "source": [
    "<font size=3 > b)$\\space$ Monte Carlo Simulation </font>  \n",
    "\n",
    "\n",
    "Under the **risk-neutral** measure, $S_t$ follows GBM, so,\n",
    "\n",
    "_$$ dS=rSdt + \\sigma SdW(t) $$_\n",
    "\n",
    "$$S^i_T = S_0e^{(r-{\\frac{1}{2}}\\sigma ^2)T + \\sigma W^i_T}$$\n",
    "\n",
    "Therefore, we use the approximation for a call option:\n",
    "\n",
    "$$E^{\\mathbb Q}\\bigg[(S_T - K)^+ \\bigg|S_0\\bigg] \\approx {\\frac{1}{N}}\\sum_{i=1}^{N}(S^i_T - K)^+$$"
   ]
  },
  {
   "cell_type": "code",
   "execution_count": 56,
   "id": "8f0e65bd",
   "metadata": {},
   "outputs": [],
   "source": [
    "def Monte_Carl(S0,K,r,T,sigma,Type):\n",
    "    N=10000000\n",
    "    temp=ss.norm.rvs((r-0.5*sigma**2)*T,np.sqrt(T)*sigma, N)\n",
    "    S_t=S0*np.exp(temp)\n",
    "    if Type == 'call':\n",
    "        ret=np.sum(np.exp(-r*T)*np.maximum(S_t-K,0))/N\n",
    "    elif Type == 'put':\n",
    "        ret=np.sum(np.exp(-r*T)*np.maximum(K-S_t,0))/N\n",
    "    else:\n",
    "        print('Type Error')\n",
    "    return ret"
   ]
  },
  {
   "cell_type": "code",
   "execution_count": 80,
   "id": "1b0223df",
   "metadata": {},
   "outputs": [
    {
     "name": "stdout",
     "output_type": "stream",
     "text": [
      "The price of European call Option via Monte Carlo Simulation method is 10.4539\n",
      "The price of European put Option via Monte Carlo Simulation method is 5.5735\n"
     ]
    }
   ],
   "source": [
    "Type='call'\n",
    "print(\"The price of European %s Option via Monte Carlo Simulation method is %s\"\n",
    "      %(Type,round(Monte_Carl(S0,K,r,T,sigma,Type),4)))\n",
    "Type='put'\n",
    "print(\"The price of European %s Option via Monte Carlo Simulation method is %s\"\n",
    "      %(Type,round(Monte_Carl(S0,K,r,T,sigma,Type='put'),4)))"
   ]
  },
  {
   "cell_type": "markdown",
   "id": "3061fe07",
   "metadata": {},
   "source": [
    "<font size=3 > c)$\\space$ BS formula </font>  \n",
    "\n",
    "$$\\begin{cases}Se^{rt}\\int_{-d_2}^{\\infty}{\\frac{1}{\\sqrt{2\\pi}}}e^{\\frac{-({\\epsilon-\\sqrt{\\tau}\\sigma})^2}{2}}{\\rm d}\\epsilon=Se^{rt}N(d_1)\\\\K\\int_{-d_2}^{\\infty}{\\frac{1}{\\sqrt{2\\pi}}}e^{\\frac{{-\\epsilon}^2}{2}}{\\rm d}\\epsilon=K(1-N(-d_2))=K(N(d_2))\\end{cases}$$\n",
    "\n",
    "So $E[V(T)]=Se^{rt}N(d_1)-KN(d_2)$ and,\n",
    "\n",
    "_$$C (t, T, S_t, K, r, \\sigma)=V(t)=e^{-rt}E[V(T)]=SN(d_1)-Ke^{-rt}N(d_2)$$_"
   ]
  },
  {
   "cell_type": "code",
   "execution_count": 71,
   "id": "b4a47110",
   "metadata": {},
   "outputs": [],
   "source": [
    "def BS_formula(S0, K, r, T, sigma,Type):\n",
    "    d1= (np.log(S0/K)+(r+sigma**2/2)*(T))/(sigma*np.sqrt(T))\n",
    "    d2=d1-sigma*np.sqrt(T)\n",
    "    if Type=='call':\n",
    "        ret=S0*ss.norm.cdf(d1)-K*np.exp(-r*T)*ss.norm.cdf(d2)\n",
    "    elif Type=='put':\n",
    "        ret=-S0*ss.norm.cdf(-d1)+K*np.exp(-r*T)*ss.norm.cdf(-d2)\n",
    "    return ret"
   ]
  },
  {
   "cell_type": "code",
   "execution_count": 79,
   "id": "7a66f4cc",
   "metadata": {
    "scrolled": true
   },
   "outputs": [
    {
     "name": "stdout",
     "output_type": "stream",
     "text": [
      "The price of European call Option via BS Formula method is 10.4506\n",
      "The price of European put Option via Bs Formula method is 5.5735\n"
     ]
    }
   ],
   "source": [
    "Type='call'\n",
    "print(\"The price of European %s Option via BS Formula method is %s\"\n",
    "      %(Type,round(BS_formula(S0,K,r,T,sigma,Type),4)))\n",
    "Type='put'\n",
    "print(\"The price of European %s Option via Bs Formula method is %s\"\n",
    "      %(Type,round(BS_formula(S0,K,r,T,sigma,Type='put'),4)))"
   ]
  },
  {
   "cell_type": "markdown",
   "id": "38b0d1d1",
   "metadata": {},
   "source": [
    "**Put Call Parity**\n",
    "\n",
    "Or we can use the **_Put Call Parity_** to calculate the Put option price \n",
    "\n",
    "$$C - P = S - Ke^{-r(T-t)}$$"
   ]
  },
  {
   "cell_type": "code",
   "execution_count": 77,
   "id": "325cb73f",
   "metadata": {},
   "outputs": [
    {
     "data": {
      "text/plain": [
       "5.573526022256971"
      ]
     },
     "execution_count": 77,
     "metadata": {},
     "output_type": "execute_result"
    }
   ],
   "source": [
    "BS_Call(S0,K,r,T,sigma)-S0+K*np.exp(-r*T) "
   ]
  },
  {
   "cell_type": "code",
   "execution_count": null,
   "id": "e7d92580",
   "metadata": {},
   "outputs": [],
   "source": []
  }
 ],
 "metadata": {
  "kernelspec": {
   "display_name": "Python 3.8 (ipykernel)",
   "language": "python",
   "name": "python3"
  },
  "language_info": {
   "codemirror_mode": {
    "name": "ipython",
    "version": 3
   },
   "file_extension": ".py",
   "mimetype": "text/x-python",
   "name": "python",
   "nbconvert_exporter": "python",
   "pygments_lexer": "ipython3",
   "version": "3.8.10"
  }
 },
 "nbformat": 4,
 "nbformat_minor": 5
}
