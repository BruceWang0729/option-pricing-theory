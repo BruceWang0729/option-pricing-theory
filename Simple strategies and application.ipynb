{
 "cells": [
  {
   "cell_type": "code",
   "execution_count": 76,
   "id": "a76e28d4",
   "metadata": {},
   "outputs": [],
   "source": [
    "import numpy as np\n",
    "import matplotlib.pyplot as plt\n",
    "import scipy.stats as ss\n",
    "import mpl_toolkits.mplot3d.axes3d as plt_3d\n",
    "import datetime as dt\n",
    "import yfinance as yf\n",
    "import pandas as pd\n",
    "import warnings\n",
    "\n",
    "\n",
    "from Option_function import BSM\n",
    "from Option_function import Greeks\n",
    "\n",
    "\n",
    "warnings.filterwarnings('ignore')"
   ]
  },
  {
   "cell_type": "markdown",
   "id": "ac497d7e",
   "metadata": {},
   "source": [
    "# General Instruction\n"
   ]
  },
  {
   "cell_type": "markdown",
   "id": "44a2fd9e",
   "metadata": {},
   "source": [
    "\n",
    "<font size=3 >\n",
    "In the past two chapters, I have introduced the more basic pricing formula of options, as well as the very important Greek letters in risk management.</font>     \n",
    "\n",
    "\n",
    "  \n",
    "<font size=3 >In this chapter, I will introduce some simple applications of the above content and well-known options trading strategies.</font>"
   ]
  },
  {
   "cell_type": "markdown",
   "id": "68b3ea63",
   "metadata": {},
   "source": [
    "<font size=5 >*Task 1 Application of BSM pricing model*</font>\n",
    "\n",
    "a) Use the BSM model to price the option of AAPL stock, write the Python code that include the pricing date, option expiration date and other related parameters\n",
    "\n",
    "b) Use the historical data of AAPL from 01/01/2018 to 12/01/2022, calculate the annualized volatility of the stock return. Suppose the close price of AAPL on 01/04/2023 is 126.36, the 6 month LIBOR 5.14%, calculate the price of European Call option with strike price is 130.\n",
    "\n",
    "c) Assuming that the market issued AAPL European put options on 01/04/2023, the strike price is 120, and the expiration time is 1 year. The 12-month LIBOR on that day is 5.56%. Assuming that there is no dividend in the next year, calculate the European put option price on that day\n",
    "\n",
    "e) For the European call option and European put option I mentioned above, simulate the option price when the stock price on 01/04/2023 is within the range of 100 to 200. At the same time,calculate the profit when the stock price is between 250 and 500 on the expiration date of the option contract, and visualize them\n",
    "\n"
   ]
  },
  {
   "cell_type": "code",
   "execution_count": 77,
   "id": "03b4a251",
   "metadata": {},
   "outputs": [],
   "source": [
    "def European_opt(S0,K,r,T0,T,sigma,Type):\n",
    "   \n",
    "    '''\n",
    "    S0: Asset price\n",
    "    K: Strik price\n",
    "    r: Risk-free interest rate\n",
    "    T0: Pricing day, type: datetime\n",
    "    T: Expiry day, type: datetime\n",
    "    sigma: Annualized Volatility of return\n",
    "    type: 'call' or 'put'\n",
    "    '''\n",
    "    \n",
    "    t=(T-T0).days/365\n",
    "    d1= (np.log(S0/K)+(r+sigma**2/2)*(t))/(sigma*np.sqrt(t))\n",
    "    d2=d1-sigma*np.sqrt(t)\n",
    "    if Type=='call':\n",
    "        ret=S0*ss.norm.cdf(d1)-K*np.exp(-r*t)*ss.norm.cdf(d2)\n",
    "    elif Type=='put':\n",
    "        ret=-S0*ss.norm.cdf(-d1)+K*np.exp(-r*t)*ss.norm.cdf(-d2)\n",
    "    return ret"
   ]
  },
  {
   "cell_type": "markdown",
   "id": "e4a58563",
   "metadata": {},
   "source": [
    "## Task 1.a"
   ]
  },
  {
   "cell_type": "code",
   "execution_count": 78,
   "id": "49b0daa8",
   "metadata": {},
   "outputs": [
    {
     "data": {
      "text/html": [
       "<div>\n",
       "<style scoped>\n",
       "    .dataframe tbody tr th:only-of-type {\n",
       "        vertical-align: middle;\n",
       "    }\n",
       "\n",
       "    .dataframe tbody tr th {\n",
       "        vertical-align: top;\n",
       "    }\n",
       "\n",
       "    .dataframe thead th {\n",
       "        text-align: right;\n",
       "    }\n",
       "</style>\n",
       "<table border=\"1\" class=\"dataframe\">\n",
       "  <thead>\n",
       "    <tr style=\"text-align: right;\">\n",
       "      <th></th>\n",
       "      <th>AAPL Open</th>\n",
       "      <th>AAPL High</th>\n",
       "      <th>AAPL Low</th>\n",
       "      <th>AAPL Close</th>\n",
       "      <th>AAPL Volume</th>\n",
       "      <th>Dividends</th>\n",
       "      <th>Stock Splits</th>\n",
       "    </tr>\n",
       "    <tr>\n",
       "      <th>Date</th>\n",
       "      <th></th>\n",
       "      <th></th>\n",
       "      <th></th>\n",
       "      <th></th>\n",
       "      <th></th>\n",
       "      <th></th>\n",
       "      <th></th>\n",
       "    </tr>\n",
       "  </thead>\n",
       "  <tbody>\n",
       "    <tr>\n",
       "      <th>2018-01-02</th>\n",
       "      <td>40.451276</td>\n",
       "      <td>40.960008</td>\n",
       "      <td>40.237322</td>\n",
       "      <td>40.950497</td>\n",
       "      <td>102223600</td>\n",
       "      <td>0.0</td>\n",
       "      <td>0.0</td>\n",
       "    </tr>\n",
       "    <tr>\n",
       "      <th>2018-01-03</th>\n",
       "      <td>41.014678</td>\n",
       "      <td>41.494883</td>\n",
       "      <td>40.879176</td>\n",
       "      <td>40.943359</td>\n",
       "      <td>118071600</td>\n",
       "      <td>0.0</td>\n",
       "      <td>0.0</td>\n",
       "    </tr>\n",
       "    <tr>\n",
       "      <th>2018-01-04</th>\n",
       "      <td>41.017058</td>\n",
       "      <td>41.238144</td>\n",
       "      <td>40.907707</td>\n",
       "      <td>41.133545</td>\n",
       "      <td>89738400</td>\n",
       "      <td>0.0</td>\n",
       "      <td>0.0</td>\n",
       "    </tr>\n",
       "    <tr>\n",
       "      <th>2018-01-05</th>\n",
       "      <td>41.231010</td>\n",
       "      <td>41.689817</td>\n",
       "      <td>41.138297</td>\n",
       "      <td>41.601860</td>\n",
       "      <td>94640000</td>\n",
       "      <td>0.0</td>\n",
       "      <td>0.0</td>\n",
       "    </tr>\n",
       "    <tr>\n",
       "      <th>2018-01-08</th>\n",
       "      <td>41.447350</td>\n",
       "      <td>41.746882</td>\n",
       "      <td>41.347502</td>\n",
       "      <td>41.447350</td>\n",
       "      <td>82271200</td>\n",
       "      <td>0.0</td>\n",
       "      <td>0.0</td>\n",
       "    </tr>\n",
       "    <tr>\n",
       "      <th>...</th>\n",
       "      <td>...</td>\n",
       "      <td>...</td>\n",
       "      <td>...</td>\n",
       "      <td>...</td>\n",
       "      <td>...</td>\n",
       "      <td>...</td>\n",
       "      <td>...</td>\n",
       "    </tr>\n",
       "    <tr>\n",
       "      <th>2022-11-23</th>\n",
       "      <td>149.449997</td>\n",
       "      <td>151.830002</td>\n",
       "      <td>149.339996</td>\n",
       "      <td>151.070007</td>\n",
       "      <td>58301400</td>\n",
       "      <td>0.0</td>\n",
       "      <td>0.0</td>\n",
       "    </tr>\n",
       "    <tr>\n",
       "      <th>2022-11-25</th>\n",
       "      <td>148.309998</td>\n",
       "      <td>148.880005</td>\n",
       "      <td>147.119995</td>\n",
       "      <td>148.110001</td>\n",
       "      <td>35195900</td>\n",
       "      <td>0.0</td>\n",
       "      <td>0.0</td>\n",
       "    </tr>\n",
       "    <tr>\n",
       "      <th>2022-11-28</th>\n",
       "      <td>145.139999</td>\n",
       "      <td>146.639999</td>\n",
       "      <td>143.380005</td>\n",
       "      <td>144.220001</td>\n",
       "      <td>69246000</td>\n",
       "      <td>0.0</td>\n",
       "      <td>0.0</td>\n",
       "    </tr>\n",
       "    <tr>\n",
       "      <th>2022-11-29</th>\n",
       "      <td>144.289993</td>\n",
       "      <td>144.809998</td>\n",
       "      <td>140.350006</td>\n",
       "      <td>141.169998</td>\n",
       "      <td>83763800</td>\n",
       "      <td>0.0</td>\n",
       "      <td>0.0</td>\n",
       "    </tr>\n",
       "    <tr>\n",
       "      <th>2022-11-30</th>\n",
       "      <td>141.399994</td>\n",
       "      <td>148.720001</td>\n",
       "      <td>140.550003</td>\n",
       "      <td>148.029999</td>\n",
       "      <td>111380900</td>\n",
       "      <td>0.0</td>\n",
       "      <td>0.0</td>\n",
       "    </tr>\n",
       "  </tbody>\n",
       "</table>\n",
       "<p>1238 rows × 7 columns</p>\n",
       "</div>"
      ],
      "text/plain": [
       "             AAPL Open   AAPL High    AAPL Low  AAPL Close  AAPL Volume  \\\n",
       "Date                                                                      \n",
       "2018-01-02   40.451276   40.960008   40.237322   40.950497    102223600   \n",
       "2018-01-03   41.014678   41.494883   40.879176   40.943359    118071600   \n",
       "2018-01-04   41.017058   41.238144   40.907707   41.133545     89738400   \n",
       "2018-01-05   41.231010   41.689817   41.138297   41.601860     94640000   \n",
       "2018-01-08   41.447350   41.746882   41.347502   41.447350     82271200   \n",
       "...                ...         ...         ...         ...          ...   \n",
       "2022-11-23  149.449997  151.830002  149.339996  151.070007     58301400   \n",
       "2022-11-25  148.309998  148.880005  147.119995  148.110001     35195900   \n",
       "2022-11-28  145.139999  146.639999  143.380005  144.220001     69246000   \n",
       "2022-11-29  144.289993  144.809998  140.350006  141.169998     83763800   \n",
       "2022-11-30  141.399994  148.720001  140.550003  148.029999    111380900   \n",
       "\n",
       "            Dividends  Stock Splits  \n",
       "Date                                 \n",
       "2018-01-02        0.0           0.0  \n",
       "2018-01-03        0.0           0.0  \n",
       "2018-01-04        0.0           0.0  \n",
       "2018-01-05        0.0           0.0  \n",
       "2018-01-08        0.0           0.0  \n",
       "...               ...           ...  \n",
       "2022-11-23        0.0           0.0  \n",
       "2022-11-25        0.0           0.0  \n",
       "2022-11-28        0.0           0.0  \n",
       "2022-11-29        0.0           0.0  \n",
       "2022-11-30        0.0           0.0  \n",
       "\n",
       "[1238 rows x 7 columns]"
      ]
     },
     "execution_count": 78,
     "metadata": {},
     "output_type": "execute_result"
    }
   ],
   "source": [
    "# Get AAPL data\n",
    "stock_name='AAPL'\n",
    "AAPL = yf.Ticker('AAPL')\n",
    "AAPL = AAPL.history(start = '2018-01-01', end = '2022-12-01')\n",
    "AAPL = AAPL.rename(columns = {\"High\": \"AAPL High\", \"Low\": \"AAPL Low\", \n",
    "                                      \"Open\": \"AAPL Open\", \"Close\": \"AAPL Close\", \"Volume\": \"AAPL Volume\"})\n",
    "AAPL.index=pd.to_datetime(AAPL.index)\n",
    "AAPL"
   ]
  },
  {
   "cell_type": "code",
   "execution_count": 79,
   "id": "3b93200f",
   "metadata": {},
   "outputs": [
    {
     "name": "stdout",
     "output_type": "stream",
     "text": [
      "Annualized volatility is 0.33552992928759706\n"
     ]
    }
   ],
   "source": [
    "log_ret=np.log(AAPL['AAPL Close']).diff().dropna()\n",
    "annual_vol=np.sqrt(252)*log_ret.std()\n",
    "print(\"Annualized volatility is\",annual_vol)"
   ]
  },
  {
   "cell_type": "markdown",
   "id": "cce1a8dd",
   "metadata": {},
   "source": [
    "## Task 1.b"
   ]
  },
  {
   "cell_type": "code",
   "execution_count": 80,
   "id": "4ce5e1f8",
   "metadata": {},
   "outputs": [
    {
     "name": "stdout",
     "output_type": "stream",
     "text": [
      "Price of European Call is 11.717282108389142\n"
     ]
    }
   ],
   "source": [
    "#Pricing option\n",
    "S=126.36\n",
    "K_call=130\n",
    "T0=dt.datetime(2023,1,4)\n",
    "T_call=dt.datetime(2023,7,4)\n",
    "rf_6mon=0.0514\n",
    "call_price=European_opt(S,K_call,rf_6mon,T0,T_call,annual_vol,'call')\n",
    "print(\"Price of European Call is\",call_price)"
   ]
  },
  {
   "cell_type": "markdown",
   "id": "c9624299",
   "metadata": {},
   "source": [
    "## Task 1.c"
   ]
  },
  {
   "cell_type": "code",
   "execution_count": 81,
   "id": "d42ca919",
   "metadata": {},
   "outputs": [
    {
     "name": "stdout",
     "output_type": "stream",
     "text": [
      "Price of European Put is 10.335069882372068\n"
     ]
    }
   ],
   "source": [
    "T_put=dt.datetime(2024,1,4)\n",
    "rf_1year=0.056\n",
    "K_put=120\n",
    "put_price=European_opt(S,K_put,rf_1year,T0,T_put,annual_vol,'put')\n",
    "print(\"Price of European Put is\",put_price)"
   ]
  },
  {
   "cell_type": "markdown",
   "id": "a86808e3",
   "metadata": {},
   "source": [
    "## Task 1.d"
   ]
  },
  {
   "cell_type": "code",
   "execution_count": 82,
   "id": "e5ac2763",
   "metadata": {},
   "outputs": [],
   "source": [
    "S_list=np.linspace(100,200,250)\n",
    "call_ret=np.maximum(S_list-K_call,0)\n",
    "put_ret=np.maximum(K_put-S_list,0)\n",
    "\n",
    "call_list=European_opt(S_list,K_call,rf_6mon,T0,T_call,annual_vol,'call')\n",
    "put_list=European_opt(S_list,K_put,rf_1year,T0,T_put,annual_vol,'put')\n"
   ]
  },
  {
   "cell_type": "code",
   "execution_count": 83,
   "id": "9a840b50",
   "metadata": {},
   "outputs": [
    {
     "data": {
      "text/plain": [
       "<matplotlib.legend.Legend at 0x19b57c37280>"
      ]
     },
     "execution_count": 83,
     "metadata": {},
     "output_type": "execute_result"
    },
    {
     "data": {
      "image/png": "[encoded data removed]",
      "text/plain": [
       "<Figure size 1440x720 with 2 Axes>"
      ]
     },
     "metadata": {
      "needs_background": "light"
     },
     "output_type": "display_data"
    }
   ],
   "source": [
    "plt.figure(figsize=(20,10))\n",
    "plt.subplot(1, 2, 1)\n",
    "plt.plot(S_list,call_list,label='Call Option Price')\n",
    "plt.plot(S_list,call_ret,label='Call Option return')\n",
    "plt.ylabel('return')\n",
    "plt.legend()\n",
    "\n",
    "plt.subplot(1, 2, 2)\n",
    "plt.plot(S_list,put_list,label='Put Option Price')\n",
    "plt.plot(S_list,put_ret,label='Put Option return')\n",
    "plt.ylabel('return')\n",
    "plt.legend()"
   ]
  },
  {
   "cell_type": "markdown",
   "id": "00036f9f",
   "metadata": {},
   "source": [
    "<font size=5 >*Task 2. Application of Greeks*</font>\n",
    "\n",
    "a) According to the formula for option Greeks,write the Python code to calculate the Greeks of option\n",
    "\n",
    "b) Use the historical data of TSLA from 01/01/2018 to 01/10/2023, calculate the annualized volatility of the stock return. \n",
    "\n",
    "c) Assuming that the company bought a call option with a strike price of 130 at a price of 21.48  and a 6-month expiration, and at the same time bought a put option with a strike price of 110 at a price of 26.32 and a 6-year expiration on 01/10/2023. Suppose 6-month Libor is 5.14% and use the code in task a to calculate all Greeks for these two option\n"
   ]
  },
  {
   "cell_type": "markdown",
   "id": "af5c8ae0",
   "metadata": {},
   "source": [
    "## Task 2.a\n",
    "\n",
    "We can use the class \"Greeks\" in \"Option_function\" to calculate the Greeks we want"
   ]
  },
  {
   "cell_type": "markdown",
   "id": "ac3f1131",
   "metadata": {},
   "source": [
    "## Task 2.b"
   ]
  },
  {
   "cell_type": "code",
   "execution_count": 84,
   "id": "84165b78",
   "metadata": {},
   "outputs": [
    {
     "name": "stdout",
     "output_type": "stream",
     "text": [
      "Annualized volatility is 0.6514872043366371\n"
     ]
    }
   ],
   "source": [
    "stock_name='TSLA'\n",
    "TSLA = yf.Ticker('TSLA')\n",
    "TSLA = TSLA.history(start = '2018-01-01', end = '2022-12-01')\n",
    "TSLA = TSLA.rename(columns = {\"High\": \"TSLA High\", \"Low\": \"TSLA Low\", \n",
    "                                      \"Open\": \"TSLA Open\", \"Close\": \"TSLA Close\", \"Volume\": \"TSLA Volume\"})\n",
    "TSLA.index=pd.to_datetime(TSLA.index)\n",
    "log_ret=np.log(TSLA['TSLA Close']).diff().dropna()\n",
    "annual_vol=np.sqrt(252)*log_ret.std()\n",
    "print(\"Annualized volatility is\",annual_vol)"
   ]
  },
  {
   "cell_type": "markdown",
   "id": "428aaa82",
   "metadata": {},
   "source": [
    "## Task 2.c"
   ]
  },
  {
   "cell_type": "code",
   "execution_count": 88,
   "id": "37edca4e",
   "metadata": {},
   "outputs": [
    {
     "name": "stdout",
     "output_type": "stream",
     "text": [
      "Delta of Call option is 0.8775737743962464\n",
      "Gamma of Call option is 0.0022619092111429576\n",
      "Theta of Call option is -18.23455112628995\n",
      "Vega of Call option is 0.8775737743962464\n",
      "Rho of Call option is 48.06711250023294\n"
     ]
    }
   ],
   "source": [
    "S=TSLA['TSLA Close'].iloc[-1]\n",
    "T=0.5 # 6 months\n",
    "t=0\n",
    "K_call=130\n",
    "K_put=110\n",
    "rf_6month=0.0514\n",
    "call_greek=Greeks.Option_Greeks(S,K_call,rf_6month,t,T,annual_vol)\n",
    "print(\"Delta of Call option is\",call_greek.Delta('call'))\n",
    "print(\"Gamma of Call option is\",call_greek.Gamma())\n",
    "print(\"Theta of Call option is\",call_greek.Theta('call'))\n",
    "print(\"Vega of Call option is\",call_greek.Delta('call'))\n",
    "print(\"Rho of Call option is\",call_greek.Rho('call'))"
   ]
  },
  {
   "cell_type": "code",
   "execution_count": 89,
   "id": "fec83921",
   "metadata": {},
   "outputs": [
    {
     "name": "stdout",
     "output_type": "stream",
     "text": [
      "Delta of Put option is -0.06355780781157072\n",
      "Gamma of Put option is 0.0013892133441695308\n",
      "Theta of Put option is -11.168716191287436\n",
      "Vega of Put option is -0.06355780781157072\n",
      "Rho of Put option is -7.690080169199822\n"
     ]
    }
   ],
   "source": [
    "put_greek=Greeks.Option_Greeks(S,K_put,rf_6month,t,T,annual_vol)\n",
    "print(\"Delta of Put option is\",put_greek.Delta('put'))\n",
    "print(\"Gamma of Put option is\",put_greek.Gamma())\n",
    "print(\"Theta of Put option is\",put_greek.Theta('put'))\n",
    "print(\"Vega of Put option is\",put_greek.Delta('put'))\n",
    "print(\"Rho of Put option is\",put_greek.Rho('put'))"
   ]
  },
  {
   "cell_type": "markdown",
   "id": "38cf8124",
   "metadata": {},
   "source": [
    "<font size=5 >*Task 3. Application of Hedging*</font>\n",
    "\n",
    "a) According to the formula for option Greeks,write the Python code to calculate the Greeks of option\n",
    "\n",
    "b) Use the historical data of TSLA from 01/01/2018 to 01/10/2023, calculate the annualized volatility of the stock return. \n",
    "\n",
    "c) Assuming that the company bought a call option with a strike price of 130 at a price of 21.48  and a 6-month expiration, and at the same time bought a put option with a strike price of 110 at a price of 26.32 and a 6-year expiration on 01/10/2023. Suppose 6-month Libor is 5.14% and use the code in task a to calculate all Greeks for these two option"
   ]
  },
  {
   "cell_type": "markdown",
   "id": "1de6786f",
   "metadata": {},
   "source": [
    "<font size=5 >*Task 4. Application of Implied Volatility*</font>\n",
    "\n",
    "There are 3 different TSLA European Call Options being traded in the market. \n",
    "TSLA-12-C-120, TSLA-12-C-130 and TSLA-12-C-140.  They all expire in a year and their close prices are 35.45, 31.14 and 26.90.\n",
    "\n",
    "a) Calculate the Implied Volatility based on BLM model. \n",
    "\n",
    "b) Suppose the price of TSLA nowdays is 123.22， 1-year LIBOR is 5.6%. Calculate the IV for three Call options mentioned above. \n"
   ]
  },
  {
   "cell_type": "code",
   "execution_count": 104,
   "id": "45d4c331",
   "metadata": {},
   "outputs": [],
   "source": [
    "S0=123.21\n",
    "K_1=120\n",
    "K_2=130\n",
    "K_3=140\n",
    "Call_1=35.45\n",
    "Call_2=31.14\n",
    "Call_3=26.90\n",
    "rf_1Y=0.056"
   ]
  },
  {
   "cell_type": "code",
   "execution_count": 102,
   "id": "96d8059b",
   "metadata": {},
   "outputs": [],
   "source": [
    "def cal_IV(c,S0,K,r,t,T,Type):\n",
    "    price = 0 \n",
    "    sig_max = 1  \n",
    "    sig_min = 0  \n",
    "    sigma = ( sig_max + sig_min )/2 \n",
    "    count = 0 \n",
    "    while abs( c - price ) > 0.000001:\n",
    "        price = BSM.Pricing_Model(S0,K,r,t,T,sigma).BS_formula(Type)\n",
    "        count += 1           \n",
    "        if count > 100:\n",
    "            sigma = 0\n",
    "            break\n",
    "        \n",
    "        if c - price > 0:\n",
    "            sig_min = sigma\n",
    "            sigma = ( sigma + sig_max )/2\n",
    "        else:\n",
    "            sig_max = sigma\n",
    "            sigma = ( sigma + sig_min )/2\n",
    "    return sigma  "
   ]
  },
  {
   "cell_type": "code",
   "execution_count": 103,
   "id": "07d22762",
   "metadata": {},
   "outputs": [
    {
     "name": "stdout",
     "output_type": "stream",
     "text": [
      "The Implied Volatility of TSLA-12-C-120 is 0.654267355799675\n",
      "The Implied Volatility of TSLA-12-C-130 is 0.6421789079904556\n",
      "The Implied Volatility of TSLA-12-C-140 is 0.6235581785440445\n"
     ]
    }
   ],
   "source": [
    "IV_1=cal_IV(Call_1,S0,K_1,rf_1Y,0,1,'call')\n",
    "IV_2=cal_IV(Call_2,S0,K_2,rf_1Y,0,1,'call')\n",
    "IV_3=cal_IV(Call_3,S0,K_3,rf_1Y,0,1,'call')\n",
    "print('The Implied Volatility of %s is %s'%('TSLA-12-C-120',IV_1))\n",
    "print('The Implied Volatility of %s is %s'%('TSLA-12-C-130',IV_2))\n",
    "print('The Implied Volatility of %s is %s'%('TSLA-12-C-140',IV_3))"
   ]
  }
 ],
 "metadata": {
  "kernelspec": {
   "display_name": "Python 3.8 (ipykernel)",
   "language": "python",
   "name": "python3"
  },
  "language_info": {
   "codemirror_mode": {
    "name": "ipython",
    "version": 3
   },
   "file_extension": ".py",
   "mimetype": "text/x-python",
   "name": "python",
   "nbconvert_exporter": "python",
   "pygments_lexer": "ipython3",
   "version": "3.8.10"
  }
 },
 "nbformat": 4,
 "nbformat_minor": 5
}
