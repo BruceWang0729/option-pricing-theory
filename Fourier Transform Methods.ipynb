{
 "cells": [
  {
   "cell_type": "code",
   "execution_count": 2,
   "id": "8e5b76d8",
   "metadata": {},
   "outputs": [],
   "source": [
    "import numpy as np\n",
    "import matplotlib.pyplot as plt\n",
    "import scipy.stats as ss\n",
    "from scipy.integrate import quad\n",
    "from functools import partial\n",
    "from scipy.fftpack import fft, ifft\n",
    "from scipy.interpolate import interp1d\n",
    "import mpl_toolkits.mplot3d.axes3d as plt_3d\n",
    "import warnings\n",
    "warnings.filterwarnings('ignore')"
   ]
  },
  {
   "cell_type": "markdown",
   "id": "2edded45",
   "metadata": {},
   "source": [
    "# Pricing Theory based on Fourier Transform Methods"
   ]
  },
  {
   "cell_type": "markdown",
   "id": "ebb83fb9",
   "metadata": {},
   "source": [
    "<font size=5 >*1. General Instructions*</font>\n",
    "\n",
    "In the past, I not only introduced \"Black-Scholes-Merton\" model, but implemented it to price Vanilla European option without dividend. \n",
    "\n",
    "\n",
    "And now, I still want to introduce another good method that can also be used under risk-neutral measure with a high universality.  \n",
    "\n",
    "\n",
    "It's called \"Fourier Transform Methods\".\n",
    "\n",
    "Compared with other methods, it has three advantages：\n",
    "- More common: As long as we know the characteristic function of the random process generating the uncertainty, we can use this method. For most of stochastic processes, we don't know their probability density function(PDF), but we can get their characteristic function with more easy ways\n",
    "\n",
    "- More accurate: It is based on high-precision numerical solutions, which can reduce computational costs compared to simulation methods\n",
    "\n",
    "- More quickly: It takes less time than other methods\n",
    "\n",
    "In this section, I will introduce some theoretical basics about Fourier Transform and its practical application in option pricing. If you want to know more, I hope you can continue to learn in the future."
   ]
  },
  {
   "cell_type": "markdown",
   "id": "ee6cecb5",
   "metadata": {},
   "source": [
    "<font size=5 >*2. Fourier Transform*</font>\n",
    "## 2.1 Defination\n",
    "### a) Fourier Transform\n",
    "In the continuous environment, we can define the Fourier Transform of the integrable function _$f(x)$_ as\n",
    "$$\\hat{f}(u) \\equiv \\int_{-\\infty}^{\\infty}e^{iux}f(x){\\rm d}x$$\n",
    "\n",
    "u is a real or complex number, $e^{iux}$ is called the phase factor.\n",
    "- If u is a real number, we can get $f(x)$ according to the Inversion theorem:\n",
    "$$f(x)= \\frac{1}{2\\pi}\\int_{-\\infty}^{\\infty}e^{-iux}\\hat {f}(u){\\rm d}u $$\n",
    "\n",
    "- If u is a complex number,\n",
    "$$f(x) = \\frac{1}{2\\pi}\\int_{-\\infty +iu_{i}}^{\\infty+iu_{i}}e^{-iux}\\bar {f}(u){\\rm d}u $$\n",
    "with $u = u_{r} + iu_{i}$\n",
    "\n",
    "Denote the inner product of two complex-valued, square-integrable functions f,g as <f, g>\n",
    "$$<f,g> \\equiv \\int_{-\\infty}^{\\infty}f(x)\\overline{g(x)}{\\rm d}x$$\n",
    "\n",
    "with $\\bar{u}$ represent conjugate of a complex numbe u, that is $u = u_{r} + iu_{i}$ and $\\bar{u} = u_{r} - iu_{i}$ \n",
    "\n",
    "### b) Parseval's theorem\n",
    "According to the Inverse Fourier Transform, we can conclude that:\n",
    "\n",
    "$\\qquad\\qquad\\qquad\\qquad\\qquad\\qquad\\qquad\\qquad\\space <f,g>= \\int_{-\\infty}^{\\infty}f(x)\\bar{g(x)}{\\rm d}x$  \n",
    "$$=\\int_{-\\infty}^{\\infty}\\frac{1}{2\\pi}\\int_{-\\infty}^{\\infty}e^{-iux}\\hat{f}(k){\\rm d}k{\\overline{g(x)}}{\\rm d}x$$  \n",
    "$$=\\frac{1}{2\\pi}\\int_{-\\infty}^{\\infty}\\hat{f}(k)\\int_{-\\infty}^{\\infty}e^{-iux}\\overline{g(x)}{\\rm d}x{\\rm d}k$$  \n",
    "$$=\\frac{1}{2\\pi}\\int_{-\\infty}^{\\infty}\\hat{f}(k)\\int_{-\\infty}^{\\infty}\\overline{e^{-iux}g(x)}{\\rm d}x{\\rm d}k$$  \n",
    "$$=\\frac{1}{2\\pi}\\int_{-\\infty}^{\\infty}\\hat{f}(k)\\int_{-\\infty}^{\\infty}\\overline{e^{-iux}g(x)}{\\rm d}x{\\rm d}k$$  \n",
    "$\\qquad\\quad\\space\\qquad\\qquad\\qquad\\qquad\\qquad\\qquad\\qquad\\qquad=\\frac{1}{2\\pi}\\int_{-\\infty}^{\\infty}\\hat{f}(k)\\overline{\\hat g(k)}{\\rm d}k$  \n",
    "\n",
    "$\\qquad\\quad\\space\\qquad\\qquad\\qquad\\qquad\\qquad\\qquad\\qquad\\qquad=\\frac{1}{2\\pi}<\\hat {f},\\hat{g}>$  \n",
    "\n",
    "### c) Characteristic Function\n",
    "Suppose random variables x has a PDF $\\phi x$, and the characteristic function of x is the fourier transform of $\\phi x$\n",
    "\n",
    "\n",
    "Charcateristic function:\n",
    "$$\\hat\\phi (x) \\equiv \\int_{-\\infty}^{\\infty} e^{iux}\\phi (x) {\\rm d}x = E^{Q}[e^{iuX}]$$\n",
    "\n",
    "There are some properties:\n",
    "- $\\hat\\phi (x)$ always exists. Because $|\\int_{-\\infty}^{\\infty}e^{iux}\\phi (x) {\\rm d}x| < \\int_{-\\infty}^{\\infty}|e^{iux}\\phi (x)| {\\rm d}x < \\infty $\n",
    "- $\\overline{\\hat\\phi (x)} = \\hat\\phi (-x)$\n",
    "\n",
    "## 2.2 Option Pricing Theorem\n",
    "\n",
    "The pricing theorem based on Fourier Transform is the application of Parseval's theorem under risk-neutral measure.  \n",
    "\n",
    "Assume the profit of European call option is $C_T \\equiv max[e^s - K, 0]$, with s $\\equiv logS$\n",
    "### a) Transformation of Call option (Lewis)\n",
    "For $u = u_r + iu_i$ with $u_i > 1$, the Fourier Transformation of $C_T$ is:  \n",
    "$$\\hat C_T(u) = \\int_{-\\infty}^{\\infty}e^{ius} max[e^s - K, 0] {\\rm d}s$$\n",
    "$$= \\int_{log K}^{\\infty}e^{ius}(e^s - K){\\rm d}s  $$\n",
    "$$= \\int_{log K}^{\\infty}\\biggl( e^{(iu + 1)s} - Ke^{ius} \\biggr) {\\rm d}s$$\n",
    "$$=\\biggr ( \\frac{e^{(iu + 1)s}}{iu + 1} - K\\frac{e^{ius}}{iu}\\biggr) {\\bigg |}_{logK}^{\\infty} $$\n",
    "$$=-\\frac{k^{iu +1}}{u^2-iu}$$  \n",
    "\n",
    "According to the Inverse Fourier Transform, we can get: \n",
    "\n",
    "$$C_T(s)= \\frac{1}{2\\pi}\\int_{-\\infty +iu_{i}}^{\\infty+iu_{i}}e^{-ius}\\hat {C_T}(u){\\rm d}u $$\n",
    "\n",
    "so, $$C_0 = e^{-rT}E^{Q}_{0}(C_T)$$\n",
    "$$=\\frac{e^{-rT}}{2\\pi}E^{Q}_{0}(\\int_{-\\infty +iu_{i}}^{\\infty+iu_{i}}e^{-ius}\\hat {C_T}(u){\\rm d}u) $$\n",
    "$$=\\frac{e^{-rT}}{2\\pi}\\int_{-\\infty +iu_{i}}^{\\infty+iu_{i}}E^{Q}_{0}(e^{i(-u)s})\\hat {C_T}(u){\\rm d}u $$\n",
    "$$=\\frac{e^{-rT}}{2\\pi}\\int_{-\\infty +iu_{i}}^{\\infty+iu_{i}}\\hat\\phi (x)\\hat {C_T}(u){\\rm d}u$$\n",
    "\n",
    "If $S_t \\equiv S_0e^{rt+X_t}$  and $X_t$ is a Levy process with a martingale process $e^{X_t}$ that $X_0 = 0$.\n",
    "\n",
    "So $\\hat\\phi(-u) = e^{-iuy}\\varphi(-u)$, recall that $\\varphi$ is the Characteristic function of $X_T$ and $y \\equiv logS_0 + rT$and $k = log(S_0/K) + rT$\n",
    "$$C_0 =\\frac{e^{-rT}}{2\\pi}\\int_{-\\infty +iu_{i}}^{\\infty+iu_{i}}e^{-iuy}\\varphi (-u)\\hat {C}(u){\\rm d}u $$\n",
    "$$=-\\frac{Ke^{-rT}}{2\\pi}\\int_{-\\infty +iu_{i}}^{\\infty+iu_{i}}e^{-iuk}\\varphi (-u)\\frac{{\\rm d}u}{u^2-ui}$$\n",
    "\n",
    "Suppose $u_i\\in(0,1)$,the present value of call option is:\n",
    "$$C_0 = S_0 -\\frac{Ke^{-rT}}{2\\pi}\\int_{-\\infty +iu_{i}}^{\\infty+iu_{i}}e^{-iuk}\\varphi (-u)\\frac{{\\rm d}u}{u^2-ui} $$\n",
    "\n",
    "if we set $u_i = 0.5$, we can conclude\n",
    "\n",
    "$$C_0 = S_0 -\\frac{\\sqrt{S_0K}e^{-rT/2}}{\\pi}\\int_{0}^{\\infty}Re[e^{izk}\\varphi (z-\\frac{i}{2})]\\frac{{\\rm d}z}{z^2+\\frac{1}{4}}$$\n",
    "\n",
    "where Re[x] is the real part of x\n",
    "\n",
    "### b) Transformation of Call option (Carr-Madan)\n",
    "\n",
    "Suppose the profit of European Call option, $C_T \\equiv max[S_T - K, 0]$, given $K \\equiv e^k$ and $S_T \\equiv e^s$\n",
    "$$C_0 \\equiv e^{-rT}E^{Q}_{0}\\biggl(max[e^s-e^k,0]\\biggr)$$\n",
    "$$= e^{-rT}\\int_{k}^{\\infty}(e^s-e^k) \\phi(s){\\rm d}s$$  \n",
    "$\\phi(s)$ is the PDF of $s_T$ under the risk-neutral measure. Suppose $c_0 \\equiv e^(\\alpha k)C_0$, and the fourier transform of $c_0$ is\n",
    "$$\\psi(v) \\equiv \\int_{-\\infty}^{\\infty}e^{ivk}c_0{\\rm d}k$$\n",
    "and the inverse fourier transformation is\n",
    "$$C_0 = \\frac{e^{-\\alpha k}}{\\pi}\\int_{0}^{\\infty}e^{-ivk}\\psi(v){\\rm d}v$$"
   ]
  },
  {
   "cell_type": "markdown",
   "id": "e380ec7e",
   "metadata": {},
   "source": [
    "# 3. Numeric Methods\n",
    "\n",
    "Apart from the methods I introduced before, we can also use another numieric methods to calculate the price of European Call option. Now, I will tell you a good algorithm, Fast Fourier Transform, to compute the price of a large number of options with the same maturity and can reduce the computational cost.\n",
    "\n",
    "FFT is an algorithm that can be used to compute sums of the form like\n",
    "$$w(u) = \\sum_{j=1}^{N} e^{-i\\frac{2\\pi}{N}(j-1)(u-1)}x(j), u = 1,...,N$$\n",
    "\n",
    "Given $v_j \\equiv \\eta(j-1)$, and the equation $C_0 = \\frac{e^{-\\alpha k}}{\\pi}\\int_{0}^{\\infty}e^{-ivk}\\psi(v){\\rm d}v$ can be approximated by the following formula\n",
    "$$C_0 = \\frac{e^{-\\alpha k}}{\\pi}\\int_{0}^{\\infty}e^{-ivk}\\psi(v){\\rm d}v$$\n",
    "$$ \\approx \\frac{e^{-\\alpha k}}{\\pi} \\sum_{j=1}^{N} e^{-iv_jk}\\psi(v_j)\\eta$$\n",
    "\n",
    "Suppose $\\epsilon$ is a constant interval parameter, and considering the log strike price sequence $k_u = -b +\\epsilon(u-1)$. Considering the interval $[-b, b]$ and set $b = 0.5N_{\\epsilon}$ is the log strike price, FFT algorithm can calculate N numbers.  \n",
    "\n",
    "And $$C_0 \\approx \\frac{e^{-\\alpha k}}{\\pi} \\sum_{j=1}^{N} e^{-iv_j(-b+\\epsilon(u-1))}\\psi(v_j)\\eta, u = 1,...,N$$\n",
    "$$=\\frac{e^{-\\alpha k}}{\\pi} \\sum_{j=1}^{N} e^{-i\\epsilon\\eta(j-1)(u-1)}e^{ibv_j}\\psi(v_j)\\eta, u = 1,...,N$$\n",
    "\n",
    "Then we need to use Simpson's law, and the call price is approximated by:\n",
    "$$\\begin{cases}C_0 \\approx \\frac{e^{-\\alpha k_u}}{\\pi} \\sum_{j=1}^{N} e^{-i\\frac{2\\pi}{N}(j-1)(u-1)}e^{ibv_j}\\psi(v_j)\\frac{\\eta}{3}\\biggl(3+(-1)^{j}-\\mathbb I_{j-1}\\biggr), u = 1,...,N\\\\\n",
    "\\mathbb I_{j-1}\\begin{cases}1,n=0\\\\0,otherwise\\end{cases}\\end{cases}$$"
   ]
  },
  {
   "cell_type": "markdown",
   "id": "c37b6afe",
   "metadata": {},
   "source": [
    "# 4. Characteristic Function\n",
    "In this part, I will tell you some characteristic functions given the well-known distribution we often used :\n",
    "\n",
    "##### Normal:\n",
    "$\\mathcal{N}(\\mu,\\sigma^2)$, $\\sigma>0$.\n",
    "$$ \\phi_N(u) = e^{i\\mu u - \\frac{1}{2}\\sigma^2 u^2} $$\n",
    "##### Gamma (shape-scale parameterization) \n",
    "$\\Gamma(a,b)$, $a,b >0$.\n",
    "$$ \\phi_G(u) = (1-ibu)^{-a} $$\n",
    "##### Poisson\n",
    "$Po(\\lambda)$, $\\lambda>0$.\n",
    "$$ \\phi_P(u) = e^{\\lambda (e^{iu}-1)} $$\n",
    "\n",
    "We can check them accoring to the General Fourier inversion formula (Gil-Pelaez)"
   ]
  },
  {
   "cell_type": "code",
   "execution_count": 4,
   "id": "ecf83dde",
   "metadata": {},
   "outputs": [],
   "source": [
    "def Gil_Pelaez_pdf(x, cf, right_lim):               \n",
    "    integrand = lambda u: np.real( np.exp(-u*x*1j) * cf(u) )\n",
    "    return 1/np.pi * quad(integrand, 1e-15, right_lim )[0]\n",
    "def cf_normal(u, mu=1, sig=2):\n",
    "    return np.exp( 1j * u * mu - 0.5 * u**2 * sig**2 )\n",
    "def cf_gamma(u, a=1, b=2):\n",
    "    return (1 - b * u * 1j)**(-a) \n",
    "def cf_poisson(u, lam=1):\n",
    "    return np.exp( lam * (np.exp(1j * u) -1) ) \n"
   ]
  },
  {
   "cell_type": "code",
   "execution_count": 5,
   "id": "b5060a5b",
   "metadata": {},
   "outputs": [
    {
     "data": {
      "image/png": "[encoded data removed]",
      "text/plain": [
       "<Figure size 432x288 with 1 Axes>"
      ]
     },
     "metadata": {
      "needs_background": "light"
     },
     "output_type": "display_data"
    }
   ],
   "source": [
    "x = np.linspace(-8,10,100)\n",
    "plt.plot(x,ss.norm.pdf(x, loc=1, scale=2), label=\"pdf norm\")\n",
    "plt.plot(x,[Gil_Pelaez_pdf(i,cf_normal,np.inf) for i in x], label=\"Fourier inversion\" )\n",
    "plt.title(\"Comparison: pdf - Gil Pelaez inversion\"); plt.legend()\n",
    "plt.show()"
   ]
  },
  {
   "cell_type": "code",
   "execution_count": 6,
   "id": "34247c36",
   "metadata": {},
   "outputs": [
    {
     "data": {
      "image/png": "[encoded data removed]",
      "text/plain": [
       "<Figure size 1080x288 with 2 Axes>"
      ]
     },
     "metadata": {
      "needs_background": "light"
     },
     "output_type": "display_data"
    }
   ],
   "source": [
    "xx = np.linspace(0.1,20,100)\n",
    "a = 1     #shape parameter\n",
    "b = 2     #scale parameter\n",
    "c = 9     #shape parameter\n",
    "d = 0.5   #scale parameter\n",
    "lim_ab = 24\n",
    "lim_cd = np.inf\n",
    "cf_gamma_ab = partial(cf_gamma, a=a, b=b)   # function binding \n",
    "cf_gamma_cd = partial(cf_gamma, a=c, b=d)   # function binding \n",
    "\n",
    "fig = plt.figure(figsize=(15,4))\n",
    "ax1 = fig.add_subplot(121); ax2 = fig.add_subplot(122)\n",
    "ax1.plot(xx,ss.gamma.pdf(xx, a, scale=b), label=\"pdf Gamma\")\n",
    "ax1.plot(xx,[Gil_Pelaez_pdf(i,cf_gamma_ab, lim_ab) for i in xx], label=\"Fourier inversion\" )\n",
    "ax1.set_title(\"Comparison Gamma. shape=1, scale=2\"); ax1.legend()\n",
    "ax2.plot(xx,ss.gamma.pdf(xx,c, scale=d), label=\"pdf Gamma\")\n",
    "ax2.plot(xx,[Gil_Pelaez_pdf(i,cf_gamma_cd, lim_cd) for i in xx], label=\"Fourier inversion\" )\n",
    "ax2.set_title(\"Comparison Gamma. shape=9, scale=0.5\"); ax2.legend()\n",
    "plt.show()"
   ]
  },
  {
   "cell_type": "code",
   "execution_count": 7,
   "id": "17d369f7",
   "metadata": {},
   "outputs": [
    {
     "data": {
      "image/png": "[encoded data removed]",
      "text/plain": [
       "<Figure size 1080x288 with 2 Axes>"
      ]
     },
     "metadata": {
      "needs_background": "light"
     },
     "output_type": "display_data"
    }
   ],
   "source": [
    "k = np.array(range(20))\n",
    "lam = 4\n",
    "cf_poisson4 = partial(cf_poisson, lam=lam)   # function binding to lam=4\n",
    "\n",
    "fig = plt.figure(figsize=(15,4))\n",
    "ax1 = fig.add_subplot(121); ax2 = fig.add_subplot(122)\n",
    "ax1.plot(k, ss.poisson.pmf(k, 1), linestyle=\"None\", marker='p', label=\"pmf Poisson\")  # with lam=1 \n",
    "ax1.plot(k, [Gil_Pelaez_pdf(i,cf_poisson, np.pi) for i in k], \\\n",
    "         linestyle=\"None\", marker='*', label=\"Fourier inversion\" )      # lam=1 by default\n",
    "ax1.set_xlabel(\"k\"); ax1.set_ylabel(\"P(X=k)\")\n",
    "ax1.set_title(\"Comparison: Poisson pmf - Gil Pelaez, lambda = 1\"); ax1.legend()\n",
    "ax2.plot(k, ss.poisson.pmf(k, lam), linestyle=\"None\", marker='p', label=\"pmf Poisson\")\n",
    "ax2.plot(k, [Gil_Pelaez_pdf(i,cf_poisson4, np.pi) for i in k], \\\n",
    "         linestyle=\"None\", marker='*', label=\"Fourier inversion\" )\n",
    "ax2.set_title(\"Comparison: Poisson pmf - Gil Pelaez, lambda = 4\"); ax2.legend()\n",
    "plt.show()"
   ]
  },
  {
   "cell_type": "markdown",
   "id": "82c84380",
   "metadata": {},
   "source": [
    "# 5. Sample Code"
   ]
  },
  {
   "cell_type": "code",
   "execution_count": 19,
   "id": "6b3bd638",
   "metadata": {},
   "outputs": [],
   "source": [
    "def BSM_Call_Lewis(S0,K,T,r,sigma):\n",
    "    value = quad(lambda u: BSM_integral(u,S0,K,T,r,sigma),0,100)[0]\n",
    "    call = max(0, S0 - np.exp(-r*T)*np.sqrt(S0*K)/np.pi*value)\n",
    "    return call\n",
    "\n",
    "def BSM_integral(u, S0, K,T,r,sigma):\n",
    "    cf_value=BSM_characteristic(u-1j*0.5,0,T,r,sigma)\n",
    "    int_value=1/(u**2+0.25)*(np.exp(1j*u*np.log(S0/K))*cf_value).real\n",
    "    return int_value\n",
    "def BSM_characteristic(v, x0, T,r,sigma):\n",
    "    ret = np.exp(((x0/T + r - 0.5*sigma**2)*1j*v-0.5*sigma**2*v**2)*T)\n",
    "    return ret\n",
    "\n",
    "def FFT(K, S0, cf, interp=\"cubic\"):\n",
    "    \"\"\" \n",
    "    K = vector of strike\n",
    "    S = spot price scalar\n",
    "    cf = characteristic function\n",
    "    interp can be cubic or linear\n",
    "    \"\"\"\n",
    "    N=2**12                          # FFT more efficient for N power of 2\n",
    "    B = 200                          # integration limit \n",
    "    dx = B/N\n",
    "    x = np.arange(N) * dx            # the final value B is excluded\n",
    "\n",
    "    weight = np.arange(N)            # Simpson weights\n",
    "    weight = 3 + (-1)**(weight+1)\n",
    "    weight[0] = 1; weight[N-1]=1\n",
    "\n",
    "    dk = 2*np.pi/B\n",
    "    b = N * dk /2\n",
    "    ks = -b + dk * np.arange(N)\n",
    "\n",
    "    integrand = np.exp(- 1j * b * np.arange(N)*dx) * cf(x - 0.5j) * 1/(x**2 + 0.25) * weight * dx/3\n",
    "    integral_value = np.real( ifft(integrand)*N )\n",
    "    \n",
    "    if interp == \"linear\":\n",
    "        spline_lin = interp1d(ks, integral_value, kind='linear')\n",
    "        prices = S0 - np.sqrt(S0 * K) * np.exp(-r*T)/np.pi * spline_lin( np.log(S0/K) )\n",
    "    elif interp == \"cubic\":\n",
    "        spline_cub = interp1d(ks, integral_value, kind='cubic')\n",
    "        prices = S0 - np.sqrt(S0 * K) * np.exp(-r*T)/np.pi * spline_cub( np.log(S0/K) )\n",
    "    return prices\n",
    "\n",
    "\n",
    "def BSM_call_value_FFT(S0, K, T, r, sigma):\n",
    "    ''' Valuation of European call option in BSM model via Lewis (2001)\n",
    "    --> Fourier-based approach (integral).\n",
    "    Parameters\n",
    "    ==========\n",
    "    S0: float\n",
    "        initial stock/index level\n",
    "    K: float\n",
    "        strike price\n",
    "    T: float\n",
    "        time-to-maturity (for t=0)\n",
    "    r: float\n",
    "        constant risk-free short rate\n",
    "    sigma: float\n",
    "        volatility factor in diffusion term\n",
    "    Returns\n",
    "    =======\n",
    "    call_value: float\n",
    "        European call option present value\n",
    "    '''\n",
    "    k = np.log(K / S0)\n",
    "    x0 = np.log(S0 / S0)\n",
    "    g = 1  # factor to increase accuracy\n",
    "    N = g * 4096\n",
    "    eps = (g * 150.) ** -1\n",
    "    eta = 2 * np.pi / (N * eps)\n",
    "    b = 0.5 * N * eps - k\n",
    "    u = np.arange(1, N + 1, 1)\n",
    "    vo = eta * (u - 1)\n",
    "    # Modificatons to Ensure int_valueegrability\n",
    "    if S0 >= 0.95 * K:  # ITM case\n",
    "        alpha = 1.5\n",
    "        v = vo - (alpha + 1) * 1j\n",
    "        modcharFunc = np.exp(-r * T) * (BSM_characteristic(\n",
    "            v, x0, T, r, sigma) /\n",
    "            (alpha ** 2 + alpha - vo ** 2 + 1j * (2 * alpha + 1) * vo))\n",
    "    else:        # OTM case\n",
    "        alpha = 1.1\n",
    "        v = (vo - 1j * alpha) - 1j\n",
    "        modcharFunc1 = np.exp(-r * T) * (1 / (1 + 1j * (vo - 1j * alpha)) -\n",
    "                             np.exp(r * T) / (1j * (vo - 1j * alpha)) -\n",
    "                             BSM_characteristic(v, x0, T, r, sigma) /\n",
    "                             ((vo - 1j * alpha) ** 2 -\n",
    "                              1j * (vo - 1j * alpha)))\n",
    "        v = (vo + 1j * alpha) - 1j\n",
    "        modcharFunc2 = np.exp(-r * T) * (1 / (1 + 1j * (vo + 1j * alpha))\n",
    "                             - np.exp(r * T) /\n",
    "                             (1j * (vo + 1j * alpha))\n",
    "                             - BSM_characteristic(\n",
    "            v, x0, T, r, sigma) /\n",
    "            ((vo + 1j * alpha) ** 2 - 1j * (vo + 1j * alpha)))\n",
    "    # Numerical FFT Routine\n",
    "    delt = np.zeros(N, dtype=np.float)\n",
    "    delt[0] = 1\n",
    "    j = np.arange(1, N + 1, 1)\n",
    "    SimpsonW = (3 + (-1) ** j - delt) / 3\n",
    "    if S0 >= 0.95 * K:\n",
    "        FFTFunc = np.exp(1j * b * vo) * modcharFunc * eta * SimpsonW\n",
    "        payoff = (fft(FFTFunc)).real\n",
    "        CallValueM = np.exp(-alpha * k) / np.pi * payoff\n",
    "    else:\n",
    "        FFTFunc = (np.exp(1j * b * vo) *\n",
    "                   (modcharFunc1 - modcharFunc2) *\n",
    "                   0.5 * eta * SimpsonW)\n",
    "        payoff = (fft(FFTFunc)).real\n",
    "        CallValueM = payoff / (np.sinh(alpha * k) * np.pi)\n",
    "    pos = int((k + b) / eps)\n",
    "    CallValue = CallValueM[pos] * S0\n",
    "    # klist = np.exp((np.arange(0, N, 1) - 1) * eps - b) * S0\n",
    "    return CallValue  # , klist[pos - 50:pos + 50]\n"
   ]
  },
  {
   "cell_type": "code",
   "execution_count": 12,
   "id": "b1c3091a",
   "metadata": {},
   "outputs": [
    {
     "data": {
      "text/plain": [
       "10.450583572184797"
      ]
     },
     "execution_count": 12,
     "metadata": {},
     "output_type": "execute_result"
    }
   ],
   "source": [
    "BSM_Call_Lewis(100,100,1,0.05,0.2)"
   ]
  },
  {
   "cell_type": "code",
   "execution_count": 16,
   "id": "287fb40a",
   "metadata": {},
   "outputs": [
    {
     "data": {
      "text/plain": [
       "10.450583572186233"
      ]
     },
     "execution_count": 16,
     "metadata": {},
     "output_type": "execute_result"
    }
   ],
   "source": [
    "r=0.05\n",
    "sig=0.2\n",
    "T=1\n",
    "cf_GBM = partial(cf_normal, mu=( r - 0.5 * sig**2 )*T, sig=sig*np.sqrt(T)) \n",
    "FFT(100,100,cf_GBM,'cubic')"
   ]
  },
  {
   "cell_type": "code",
   "execution_count": 20,
   "id": "fec38f42",
   "metadata": {},
   "outputs": [
    {
     "data": {
      "text/plain": [
       "10.450583529672013"
      ]
     },
     "execution_count": 20,
     "metadata": {},
     "output_type": "execute_result"
    }
   ],
   "source": [
    "BSM_call_value_FFT(100, 100, 1, 0.05, 0.2)"
   ]
  },
  {
   "cell_type": "code",
   "execution_count": null,
   "id": "84f46acf",
   "metadata": {},
   "outputs": [],
   "source": []
  }
 ],
 "metadata": {
  "kernelspec": {
   "display_name": "Python 3.8 (ipykernel)",
   "language": "python",
   "name": "python3"
  },
  "language_info": {
   "codemirror_mode": {
    "name": "ipython",
    "version": 3
   },
   "file_extension": ".py",
   "mimetype": "text/x-python",
   "name": "python",
   "nbconvert_exporter": "python",
   "pygments_lexer": "ipython3",
   "version": "3.8.10"
  }
 },
 "nbformat": 4,
 "nbformat_minor": 5
}
