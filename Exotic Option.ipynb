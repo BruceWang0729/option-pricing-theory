{
 "cells": [
  {
   "cell_type": "code",
   "execution_count": 4,
   "id": "3fee2a7c",
   "metadata": {},
   "outputs": [],
   "source": [
    "import numpy as np\n",
    "import matplotlib.pyplot as plt\n",
    "import scipy.stats as ss\n",
    "\n",
    "from scipy.integrate import quad\n",
    "from functools import partial\n",
    "from scipy.fftpack import fft, ifft\n",
    "from scipy.interpolate import interp1d\n",
    "import mpl_toolkits.mplot3d.axes3d as plt_3d\n",
    "from Option_function import BSM \n",
    "import warnings\n",
    "warnings.filterwarnings('ignore')\n",
    "import scipy as scp\n",
    "import matplotlib.pyplot as plt\n",
    "from mpl_toolkits import mplot3d\n",
    "from matplotlib import cm\n",
    "import matplotlib.gridspec as gridspec\n",
    "%matplotlib inline\n",
    "\n",
    "from scipy import sparse\n",
    "from scipy.sparse.linalg import splu\n",
    "from scipy.sparse.linalg import spsolve"
   ]
  },
  {
   "cell_type": "markdown",
   "id": "b7d6666d",
   "metadata": {},
   "source": [
    "# Exotic Option\n",
    "\n",
    "<font size=5 >*1.Introduction*</font>\n",
    "\n",
    "I've presented a lot of notebook on traditional European vanilla options,and now I'd like to introduce more things relate to exotic options that are different but have broader practical applications, including Binary, Barrier, Asian and Bermuda Option.\n",
    "\n",
    "<font size=5 >*2.Binary Options*</font>\n",
    "## 2.1 Defination\n",
    "\n",
    "A Binary Option is a financial exotic option in which the payoff is either some fixed monetary amount or nothing at all. \n",
    "\n",
    "It contains two kinds, one of which is a cash-or-nothing binary option and the other is asset-or-nothing binary option.\n",
    "\n",
    "The former pays some fixed amount of cash if the option expires in the money while the latter pay the value of the underlying security. \n",
    "\n",
    "For more information you want to know, pls look at wikipedia\n",
    "\n",
    "Let's review the Black-Scholes model, suppose the stock price follows a geometric Brownian motion, the Black-Scholes model can get the price of a vanilla European option.\n",
    "\n",
    "$$ C (t, T, S_t, K, r, \\sigma) = S_tN(d_1) - Ke^{-r(T-t)}N(d_2) $$\n",
    "\n",
    "with\n",
    "\n",
    "$$ d_1 = \\frac{\\log \\biggl( \\frac{S_t}{K}\\biggr) + \\biggl(r + \\frac{\\sigma^2}{2} \\biggr) (T-t) }{\\sigma \\sqrt {T-t}}  \\quad \\mbox{and} \\quad d_2=d_1 - \\sigma \\sqrt{T-t} $$\n",
    "\n",
    "where _N_ is the cumulative distribution function (cdf) of a standard normal random variable. \n",
    "$$N(x)=\\int_{-\\infty}^{x}{\\frac{1}{\\sqrt{2\\pi}}}e^{{-y^2}/2}{\\rm d}y $$\n",
    "\n",
    "The price of a vanilla call option (or put option) can be interpreted by decomposing a call option into an asset-or-nothing call option minus a cash-or-nothing call option, and similarly for a put – the binary options are easier to analyze, and correspond to the two terms in the Black–Scholes formula.\n",
    "\n",
    "I don't know if you remember that $N(d_2)$, which is disscussed in the derivation of the Black-Scholes formula, is the probability that a vanilla call option finishes in the money under the risk-neutral measure. So its discounted values, $e^{-rt}N(d_2)$, is the price of Cash-or-nothing call option under the Black-Scholes model.\n",
    "\n",
    "In conclude,  \n",
    "- **Cash-or-Nothing Call**\n",
    "$$Call = e^{-rT}N(d_2)$$\n",
    "- **Cash-or-Nothing Put**\n",
    "$$Put = e^{-rT}N(-d_2)$$\n",
    "- **Asset-or-Nothing Call**\n",
    "$$Call =Se^{-qT}N(d_1)$$\n",
    "- **Asset-or-Nothing Call**\n",
    "$$Put = Se^{-qT}N(d_1)$$\n",
    "\n",
    "## 2.2 Code\n",
    "\n",
    "### a) Closed Formula\n",
    "\n"
   ]
  },
  {
   "cell_type": "code",
   "execution_count": 24,
   "id": "79502cd4",
   "metadata": {},
   "outputs": [],
   "source": [
    "def Binary_opt(S0,K,T,r,sigma,Type):\n",
    "    d2=(np.log(S0/K)+(r-sigma**2/2)*T)/(sigma*np.sqrt(T))\n",
    "    if Type == 'call':\n",
    "        ret=np.exp(-r*T)*ss.norm.cdf(d2)\n",
    "    elif Type == 'put':\n",
    "        ret=np.exp(-r*T)*ss.norm.cdf(-d2)\n",
    "    else:\n",
    "        ret=\"Type Error\"\n",
    "    return ret"
   ]
  },
  {
   "cell_type": "code",
   "execution_count": 25,
   "id": "b1c14804",
   "metadata": {},
   "outputs": [
    {
     "name": "stdout",
     "output_type": "stream",
     "text": [
      "The price of the ATM digital call option by closed formula is:  0.5930501164033175\n"
     ]
    }
   ],
   "source": [
    "closed_binary=Binary_opt(100,100,1,0.1,0.2,'call')\n",
    "print(\"The price of the ATM digital call option by closed formula is: \", closed_binary)"
   ]
  },
  {
   "cell_type": "markdown",
   "id": "f503c46f",
   "metadata": {},
   "source": [
    "### b) Monte Carlo"
   ]
  },
  {
   "cell_type": "code",
   "execution_count": 26,
   "id": "55ff45a5",
   "metadata": {},
   "outputs": [],
   "source": [
    "def Binary_MC(S0,K,T,r,sigma,Type):\n",
    "    N=10000000\n",
    "    x=(r - sigma**2/2)*T + ss.norm.rvs(0,sigma,N)\n",
    "    S=S0*np.exp(x)\n",
    "    if Type == 'call':\n",
    "        res = np.exp(-r*T)*np.mean(S>K)\n",
    "    elif Type == 'put':\n",
    "        res = np.exp(-r*T)*np.mean(S<K)\n",
    "    else:\n",
    "        ret=\"Type Error\"\n",
    "    return res"
   ]
  },
  {
   "cell_type": "code",
   "execution_count": 27,
   "id": "e19d67f5",
   "metadata": {},
   "outputs": [
    {
     "name": "stdout",
     "output_type": "stream",
     "text": [
      "The price of the ATM digital call option by Monte Carlo is:  0.5928171736013368\n"
     ]
    }
   ],
   "source": [
    "mc_binary=Binary_MC(100,100,1,0.1,0.2,'call')\n",
    "print(\"The price of the ATM digital call option by Monte Carlo is: \", mc_binary)"
   ]
  },
  {
   "cell_type": "markdown",
   "id": "78228321",
   "metadata": {},
   "source": [
    "### c) PDE\n"
   ]
  },
  {
   "cell_type": "code",
   "execution_count": 38,
   "id": "34faccae",
   "metadata": {},
   "outputs": [],
   "source": [
    "def Binary_PDE(S0,K,T,r,sigma,Type):\n",
    "    Nspace = 5000   # M space steps\n",
    "    Ntime = 5000    # N time steps   \n",
    "    S_max = 3*float(K)                \n",
    "    S_min = float(K)/3\n",
    "    x_max = np.log(S_max)  # A2\n",
    "    x_min = np.log(S_min)  # A1\n",
    "\n",
    "    x, dx = np.linspace(x_min, x_max, Nspace, retstep=True)    # space discretization\n",
    "    T_array, dt = np.linspace(0, T, Ntime, retstep=True)       # time discretization\n",
    "    if Type == 'call':\n",
    "        Payoff = np.where(np.exp(x)>K, 1, 0)          # Binary payoff\n",
    "    elif Type == 'put':\n",
    "        Payoff = np.where(np.exp(x)<K, 1, 0)          # Binary payoff\n",
    "    V = np.zeros((Nspace,Ntime))       # grid initialization\n",
    "    offset = np.zeros(Nspace-2)        # vector to be used for the boundary terms   \n",
    "\n",
    "    V[:,-1] = Payoff                   # terminal conditions \n",
    "    V[-1,:] = 1                        # boundary condition\n",
    "    V[0,:] = 0                         # boundary condition\n",
    "\n",
    "    # construction of the tri-diagonal matrix D\n",
    "    sig2 = sig*sig; dxx = dx * dx\n",
    "    a = ( (dt/2) * ( (r-0.5*sig2)/dx - sig2/dxx ) )\n",
    "    b = ( 1 + dt * ( sig2/dxx + r ) )\n",
    "    c = (-(dt/2) * ( (r-0.5*sig2)/dx + sig2/dxx ) )\n",
    "    D = sparse.diags([a, b, c], [-1, 0, 1], shape=(Nspace-2, Nspace-2)).tocsc()\n",
    "    DD = splu(D)\n",
    "\n",
    "    # Backward iteration\n",
    "    for i in range(Ntime-2,-1,-1):\n",
    "        offset[0] = a * V[0,i]\n",
    "        offset[-1] = c * V[-1,i]; \n",
    "        V[1:-1,i] = DD.solve(V[1:-1,i+1] - offset)     \n",
    "\n",
    "    # finds the option at S0\n",
    "    oPrice = np.interp(X0, x, V[:,0])\n",
    "    return oPrice"
   ]
  },
  {
   "cell_type": "code",
   "execution_count": 59,
   "id": "be592d2b",
   "metadata": {},
   "outputs": [
    {
     "data": {
      "text/plain": [
       "Text(0.5, 1.0, 'Curve at t=0')"
      ]
     },
     "execution_count": 59,
     "metadata": {},
     "output_type": "execute_result"
    },
    {
     "data": {
      "image/png": "[encoded data removed]",
      "text/plain": [
       "<Figure size 576x360 with 1 Axes>"
      ]
     },
     "metadata": {
      "needs_background": "light"
     },
     "output_type": "display_data"
    }
   ],
   "source": [
    "S = np.linspace(50,150,1000)\n",
    "V=[Binary_opt(i,100,1,0.1,0.2,'call') for i in S]\n",
    "Payoff = np.where(S>100, 1, 0)\n",
    "plt.figure(figsize=(8,5))\n",
    "plt.plot(S, Payoff, color='blue',label=\"Payoff\")\n",
    "plt.plot(S, V, color='red',label=\"Binary curve\")\n",
    "plt.xlim(50,150)\n",
    "plt.ylim(0,1.1)\n",
    "plt.xlabel(\"S\")\n",
    "plt.ylabel(\"V\")\n",
    "plt.legend(loc='upper left')\n",
    "plt.title(\"Curve at t=0\")"
   ]
  },
  {
   "cell_type": "markdown",
   "id": "724a1621",
   "metadata": {},
   "source": [
    "<font size=5 >*3.Asian Option*</font>\n",
    "## 3.1 Defination\n",
    "\n",
    "An Asian option (or average value option) is a special type of option contract. For Asian options the payoff is determined by the average underlying price over some pre-set period of time. This is different from the case of the usual European option and American option, where the payoff of the option contract depends on the price of the underlying instrument at exercise; Asian options are thus one of the basic forms of exotic options. There are two types of Asian options: fixed strike, where averaging price is used in place of underlying price; and fixed price, where averaging price is used in place of strike.\n",
    "\n",
    "The most basic Asian Options are listed below:\n",
    "- Fixed strike Asian call\n",
    "$$C_T = max(A(0,T) - K, 0)$$\n",
    "- Fixed strike Asian put\n",
    "$$P_T = max(K - A(0,T), 0)$$\n",
    "- Floating strike Asian call\n",
    "$$C_T = max(S_T - KA(0,T), 0)$$\n",
    "- Fixed strike Asian call\n",
    "$$P_T = max(KA(0,T)- S_T, 0)$$\n",
    "\n",
    "where $A(0,T)$ represent the average underlying price over a period of time.\n",
    "In fact, there are two averaging algorithms that are very common  \n",
    "- Arithmetic Average(Consinuous case)  \n",
    "$$A(0,T)= \\frac{1}{T}\\int_{0}^{T}S(t){\\rm d}t$$  \n",
    "- Arithmetic Average(discrete case)  \n",
    "$$A(0,T)=\\frac{1}{n} \\sum_{i=1}^{n}S(t_i)$$  \n",
    "- Geometric Average(Consinuous case)  \n",
    "$$A(0,T)=exp \\biggl( \\frac{1}{T}\\int_{0}^{T}ln(S(t)) {\\rm d}t \\biggr)$$\n",
    "\n",
    "\n",
    "## 3.2 Code\n",
    "\n",
    "### a) Monte Carlo\n",
    "\n"
   ]
  },
  {
   "cell_type": "code",
   "execution_count": 64,
   "id": "b20c7974",
   "metadata": {},
   "outputs": [],
   "source": [
    "def Fixed_MC_Asian(S0,K,r,T,sigma,Type):\n",
    "    N=10000\n",
    "    path=10000\n",
    "    dt=T/(N-1)\n",
    "    \n",
    "    x0 = np.zeros((path,1))\n",
    "    temp = ss.norm.rvs((r-sigma**2/2)*dt,sigma*np.sqrt(dt),size=(path,N-1))\n",
    "    X = np.concatenate((x0,temp),axis=1).cumsum(1)\n",
    "    S = S0*np.exp(X)\n",
    "    \n",
    "    Average=np.mean(S,axis=1)\n",
    "    \n",
    "    if Type == 'call':\n",
    "        res=np.exp(-r*T)*np.mean(np.maximum(Average - K, 0))\n",
    "    elif Type == 'put':\n",
    "        res=np.exp(-r*T)*np.mean(np.maximum(K - Average, 0))\n",
    "    else:\n",
    "        res = 'Type Error'\n",
    "        \n",
    "    return res"
   ]
  },
  {
   "cell_type": "code",
   "execution_count": 65,
   "id": "40a6f6a1",
   "metadata": {},
   "outputs": [
    {
     "data": {
      "text/plain": [
       "7.068006371630977"
      ]
     },
     "execution_count": 65,
     "metadata": {},
     "output_type": "execute_result"
    }
   ],
   "source": [
    "Fixed_MC_Asian(100,100,0.1,1,0.2,'call')"
   ]
  },
  {
   "cell_type": "code",
   "execution_count": 67,
   "id": "7bad4df3",
   "metadata": {},
   "outputs": [],
   "source": [
    "def Float_MC_Asian(S0,K,r,T,sigma,Type):\n",
    "    N=10000\n",
    "    path=10000\n",
    "    dt=T/(N-1)\n",
    "    \n",
    "    x0 = np.zeros((path,1))\n",
    "    temp = ss.norm.rvs((r-sigma**2/2)*dt,sigma*np.sqrt(dt),size=(path,N-1))\n",
    "    X = np.concatenate((x0,temp),axis=1).cumsum(1)\n",
    "    S = S0*np.exp(X)\n",
    "    \n",
    "    Average=np.mean(S,axis=1)\n",
    "    \n",
    "    if Type == 'call':\n",
    "        res=np.exp(-r * T) * np.mean( np.maximum( S[:,-1] - Average, 0 ) )\n",
    "    elif Type == 'put':\n",
    "        res=np.exp(-r * T) * np.mean( np.maximum( Average-S[:,-1], 0 ) )    \n",
    "    else:\n",
    "        res = 'Type Error'\n",
    "        \n",
    "    return res"
   ]
  },
  {
   "cell_type": "code",
   "execution_count": 68,
   "id": "0a05eb33",
   "metadata": {},
   "outputs": [
    {
     "data": {
      "text/plain": [
       "7.149404443455857"
      ]
     },
     "execution_count": 68,
     "metadata": {},
     "output_type": "execute_result"
    }
   ],
   "source": [
    "Float_MC_Asian(100,100,0.1,1,0.2,'call')"
   ]
  },
  {
   "cell_type": "markdown",
   "id": "267bc442",
   "metadata": {},
   "source": [
    "### b) PDE\n",
    "- Fixed strike\n",
    "\n",
    "Considering the PDE:\n",
    "\n",
    "$$ \\frac{\\partial  g(t,y)}{\\partial t}+ \\frac{1}{2} \\sigma^2 \\bigl(\\gamma(t) - y\\bigr)^2 \\frac{\\partial^2  g(t,y)}{\\partial y^2}  = 0. $$\n",
    "\n",
    "with boundary conditions:\n",
    "\n",
    "$$ \\begin{cases}g(T,y) = y^+ \\\\ g(t, -\\infty) =0\\\\ g(t,y) \\underset{y\\to \\infty}{\\sim} y \\\\\\gamma(t) := \\frac{1}{rT} (1 - e^{-r(T-t)})\\end{cases}$$\n",
    "\n",
    "The solution of this PDE:\n",
    "\n",
    "$$ V(t,a,s) := s \\, g \\bigg(t,\\frac{x}{s} \\bigg) $$\n",
    "\n",
    "with \n",
    "$$x := \\frac{1}{rT} \\bigl( 1-e^{-rT} \\bigr) s - e^{-rT} K $$\n",
    "\n",
    "We can discretize the computational domain and call $g(t_n, y_i) := g^n_i$, and then discretize the PDE using the usual implicit method (for a review, see the notebook **2.1**). We obtain:\n",
    "\n",
    "$$ g^{n+1}_{i} = a^{n}_{i}\\, g^{n}_{i-1} + b^{n}_{i}\\, g^{n}_{i} + a^{n}_{i}\\, g^{n}_{i+1} $$\n",
    "\n",
    "with\n",
    "\n",
    "$$\\begin{cases}\n",
    " a^{n}_{i} =  - \\frac{1}{2}\\sigma^2 \\frac{\\Delta t}{\\Delta y^2}  \\biggl(\\gamma(t_n) - y_i \\biggr)^2 \\\\ b^{n}_{i} = 1 + \\sigma^2 \\frac{\\Delta t}{\\Delta y^2} \\biggl(\\gamma(t_n) - y_i \\biggr)^2 \\end{cases}$$\n",
    "\n",
    "- Floating  strike\n",
    "\n",
    "Since the whole proof process is too tedious, I won't give a full explanation here. If you are interested, you can check the corresponding books.\n",
    "\n"
   ]
  },
  {
   "cell_type": "code",
   "execution_count": 80,
   "id": "9fca7dbd",
   "metadata": {},
   "outputs": [],
   "source": [
    "def gamma(t,T,r,sigma):\n",
    "    res=1/(r*T) * ( 1 - np.exp(-r*(T-t)) )\n",
    "    return res\n",
    "\n",
    "def X_0(S0,K,r,T,sigma):\n",
    "    res=gamma(0,T,r,sigma)*S0-np.exp(-r*T)*K\n",
    "    return res\n",
    "def Fixed_PDE_Asian(S0,K,r,T,sigma):\n",
    "    step=5000\n",
    "    time=5000\n",
    "    y_max=60\n",
    "    y_min=-60\n",
    "    \n",
    "    y, dy = np.linspace(y_min, y_max, Nspace, retstep=True)    # space discretization\n",
    "    T_array, dt = np.linspace(0, T, Ntime, retstep=True)       # time discretization\n",
    "    Payoff = np.maximum(y,0)                                   # payoff \n",
    "\n",
    "    G = np.zeros((Nspace,Ntime))       # grid initialization\n",
    "    offset = np.zeros(Nspace-2)        # vector to be used for the boundary terms   \n",
    "\n",
    "    G[:,-1] = Payoff                   # terminal conditions \n",
    "    G[-1,:] = y_max                    # boundary condition\n",
    "    G[0,:] = 0                         # boundary condition\n",
    "\n",
    "    for n in range(Ntime-2,-1,-1):\n",
    "\n",
    "        # construction of the tri-diagonal matrix D\n",
    "        sig2 = sig*sig; dyy = dy * dy\n",
    "        a = -0.5 * (dt/dyy) * sig2 * (gamma(T_array[n],T,r,sigma) - y[1:-1])**2 \n",
    "        b = 1 + (dt/dyy) * sig2 * (gamma(T_array[n],T,r,sigma) - y[1:-1])**2      # main diagonal\n",
    "        a0 = a[0]; cM = a[-1]                                           # boundary terms\n",
    "        aa = a[1:]; cc = a[:-1]                                         # upper and lower diagonals \n",
    "        D = sparse.diags([aa, b, cc], [-1, 0, 1], shape=(Nspace-2, Nspace-2)).tocsc()\n",
    "\n",
    "        # backward computation\n",
    "        offset[0] = a0 * G[0,n]\n",
    "        offset[-1] = cM * G[-1,n]; \n",
    "        G[1:-1,n] = spsolve( D, (G[1:-1,n+1] - offset) )\n",
    "\n",
    "    X0 = X_0(S0,K,r,T,sigma)\n",
    "    oPrice = S0 * np.interp(X0/S0, y, G[:,0])\n",
    "    return oPrice\n",
    "def Float_PDE_Asian(S0,K,r,T,sigma):\n",
    "    Nspace = 4000   # M space steps\n",
    "    Ntime = 7000    # N time steps   \n",
    "    x_max = 10      # A2\n",
    "    x_min = 0       # A1\n",
    "    x, dx = np.linspace(x_min, x_max, Nspace, retstep=True)    # space discretization\n",
    "    T_array, dt = np.linspace(0.0001, T, Ntime, retstep=True)  # time discretization\n",
    "    Payoff = np.maximum(x-1,0)                                 # Call payoff\n",
    "\n",
    "    V = np.zeros((Nspace,Ntime))       # grid initialization\n",
    "    offset = np.zeros(Nspace-2)        # vector to be used for the boundary terms   \n",
    "    V[:,-1] = Payoff                   # terminal conditions \n",
    "    V[-1,:] = x_max-1                  # boundary condition\n",
    "    V[0,:] = 0                         # boundary condition\n",
    "\n",
    "    for n in range(Ntime-2,-1,-1):\n",
    "\n",
    "        # construction of the tri-diagonal matrix D\n",
    "        sig2 = sig*sig; dxx = dx * dx\n",
    "        max_part = np.maximum( x[1:-1] * (r - (x[1:-1] - 1)/T_array[n] ), 0 )        # upwind positive part\n",
    "        min_part = np.minimum( x[1:-1] * (r - (x[1:-1] - 1)/T_array[n] ), 0 )        # upwind negative part\n",
    "\n",
    "        a = min_part * (dt/dx)  - 0.5 * (dt/dxx) * sig2 * (x[1:-1])**2 \n",
    "        b = 1 + dt*( r - (x[1:-1] - 1)/T_array[n] ) + (dt/dxx) * sig2 * (x[1:-1])**2 \\\n",
    "                   + dt/dx * (max_part - min_part)                                      # main diagonal\n",
    "        c = -max_part * (dt/dx) - 0.5 * (dt/dxx) * sig2 * (x[1:-1])**2 \n",
    "\n",
    "        a0 = a[0]; cM = c[-1]     # boundary terms\n",
    "        aa = a[1:]; cc = c[:-1]   # upper and lower diagonals \n",
    "        D = sparse.diags([aa, b, cc], [-1, 0, 1], shape=(Nspace-2, Nspace-2)).tocsc()     # matrix D\n",
    "\n",
    "        # backward computation\n",
    "        offset[0] = a0 * V[0,n]\n",
    "        offset[-1] = cM * V[-1,n]; \n",
    "        V[1:-1,n] = spsolve( D, (V[1:-1,n+1] - offset) )   \n",
    "\n",
    "    # finds the option at S0, assuming it is ATM i.e. x=s/a=1\n",
    "    oPrice = S0 * np.interp(1, x, V[:,0])\n",
    "    return oPrice"
   ]
  },
  {
   "cell_type": "code",
   "execution_count": 70,
   "id": "2b04dace",
   "metadata": {},
   "outputs": [
    {
     "data": {
      "text/plain": [
       "7.300526237510499"
      ]
     },
     "execution_count": 70,
     "metadata": {},
     "output_type": "execute_result"
    }
   ],
   "source": [
    "Float_PDE_Asian(100,100,0.1,1,0.2)"
   ]
  },
  {
   "cell_type": "code",
   "execution_count": 81,
   "id": "b6c9c1b3",
   "metadata": {},
   "outputs": [
    {
     "data": {
      "text/plain": [
       "7.0508906916853284"
      ]
     },
     "execution_count": 81,
     "metadata": {},
     "output_type": "execute_result"
    }
   ],
   "source": [
    "Fixed_PDE_Asian(100,100,0.1,1,0.2)"
   ]
  },
  {
   "cell_type": "markdown",
   "id": "6db519d5",
   "metadata": {},
   "source": [
    "<font size=5 >*4.Barrier Option*</font>\n",
    "## 4.1 Defination\n",
    "\n",
    "A barrier option is an option whose payoff is conditional upon the underlying asset's price breaching a barrier level during the option's lifetime. \n",
    "\n",
    "Barrier options are path-dependent exotics that are similar in some ways to ordinary options. You can call or put in American, Bermudan, or European exercise style. But they become activated (or extinguished) only if the underlying breaches a predetermined level (the barrier).\n",
    "\n",
    "\"In\" options only become active in the event that a predetermined knock-in barrier price is breached:\n",
    "\n",
    "- If the barrier price is far from being breached, the knock-in option will be worth slightly more than zero.\n",
    "- If the barrier price is close to being breached, the knock-in option will be worth slightly less than the corresponding vanilla option.\n",
    "- If the barrier price has been breached, the knock-in option will trade at the exact same value as the corresponding vanilla option.  \n",
    "\n",
    "\"Out\" options start their lives active and become null and void in the event that a certain knock-out barrier price is breached:\n",
    "\n",
    "- If the barrier price is far from being breached, the knock-out option will be slightly less than the corresponding vanilla option.\n",
    "- If the barrier price is close to being breached, the knock-out option will be worth slightly more than zero.\n",
    "- If the barrier price has been breached, the knock-out option will trade at the exact value of zero.\n",
    "\n",
    "In general, ther are fout main types of barrier options,   \n",
    "- **Up-and-out**\n",
    "$$C(t,s) = e^{- r (T-t)} \\mathbb{E}^{\\mathbb{Q}} \\bigl[ (S_T - K)^+ \\mathbb{1}_{\\{M_T < B\\}} \\, \\big| \\, S_t=s \\bigr]$$\n",
    "$$P(t,s) = e^{- r (T-t)} \\mathbb{E}^{\\mathbb{Q}} \\bigl[ (K - S_T)^+ \\mathbb{1}_{\\{M_T < B\\}} \\, \\big| \\, S_t=s \\bigr]$$\n",
    "- **Down-and-out**\n",
    "$$C(t,s) = e^{- r (T-t)} \\mathbb{E}^{\\mathbb{Q}} \\bigl[ (S_T - K)^+ \\mathbb{1}_{\\{\\tilde M_T < B\\}} \\, \\big| \\, S_t=s \\bigr]$$\n",
    "$$P(t,s) = e^{- r (T-t)} \\mathbb{E}^{\\mathbb{Q}} \\bigl[ (K - S_T)^+ \\mathbb{1}_{\\{\\tilde M_T < B\\}} \\, \\big| \\, S_t=s \\bigr]$$\n",
    "- **Up-and-in**\n",
    "$$C(t,s) = e^{- r (T-t)} \\mathbb{E}^{\\mathbb{Q}} \\bigl[ (S_T - K)^+ \\mathbb{1}_{\\{M_T > B\\}} \\, \\big| \\, S_t=s \\bigr]$$\n",
    "$$P(t,s) = e^{- r (T-t)} \\mathbb{E}^{\\mathbb{Q}} \\bigl[ (K - S_T)^+ \\mathbb{1}_{\\{M_T > B\\}} \\, \\big| \\, S_t=s \\bigr]$$\n",
    "- **Down-and-in**\n",
    "$$C(t,s) = e^{- r (T-t)} \\mathbb{E}^{\\mathbb{Q}} \\bigl[ (S_T - K)^+ \\mathbb{1}_{\\{\\tilde M_T > B\\}} \\, \\big| \\, S_t=s \\bigr]$$\n",
    "$$P(t,s) = e^{- r (T-t)} \\mathbb{E}^{\\mathbb{Q}} \\bigl[ (K - S_T)^+ \\mathbb{1}_{\\{\\tilde M_T > B\\}} \\, \\big| \\, S_t=s \\bigr]$$\n",
    "\n",
    "with:  \n",
    "$$M_t = \\max_{0\\leq t \\leq T} S_t.$$\n",
    "$$\\tilde M_t = \\min_{0\\leq t \\leq T} S_t.$$\n",
    "\n",
    "## 4.2 In-out parity\n",
    "\n",
    "We have the following parity relations between the prices of barrier options and vanilla call and put options:\n",
    "\n",
    "$$ \\begin{cases}\n",
    "C_{up-in}(t) + C_{up-out}(t) = e^{-(T-t)r}\\mathbb{E}^{Q}[(S_T - K)^{+} \\big{|} F_t] = C_{European}\n",
    "\\\\C_{down-in}(t) + C_{down-out}(t) = e^{-(T-t)r}\\mathbb{E}^{Q}[(S_T - K)^{+} \\big{|} F_t] = C_{European}\n",
    "\\\\P_{up-in}(t) + P_{up-out}(t) = e^{-(T-t)r}\\mathbb{E}^{Q}[(K - S_T)^{+} \\big{|} F_t] = P_{European}\n",
    "\\\\P_{down-in}(t) + P_{down-out}(t) = e^{-(T-t)r}\\mathbb{E}^{Q}[(K - S_T)^{+} \\big{|} F_t]  = P_{European}\n",
    "\\end {cases}$$\n",
    "\n",
    "## 4.3 Formula and Code\n",
    "In this section, I will show you the formulas and codes w.r.t 4 different main kinds barrier option.\n",
    "\n",
    "### a) Up-and-out barrier call option\n",
    "\n",
    "Let us consider an up-and-out barrier call optin with maturity T, strike price K, barrier B, and payoff (B $\\geq $ K)\n",
    "$$C = (S_T - K)^+ \\mathbb{1}_{\\{M_T < B\\}} = \\begin{cases} S_T - K \\qquad{if \\space \\mathop{max}\\limits_{0\\leq t \\leq T}} S_t \\leq B\\\\0\\qquad\\qquad\\quad{if \\space \\mathop{max}\\limits_{0\\leq t \\leq T}} B \\leq S_t\\end{cases} $$\n",
    "\n",
    "the price of the up-and-out barrier call option:\n",
    "\n",
    "$$e^{-(T-t)r}\\mathbb{E}^{Q}\\biggl[(S_T - K)^{+} \\mathbb{1}_{\\{M^{T}_0 < B\\}} \\big| \\mathcal F_t\\biggr]$$\n",
    "$$=S_t \\mathbb{1}_{\\{M^{T}_0 < B\\}}\\biggl\\{\\Phi\\biggl( \\delta_{+}^{T-t}\\biggl(\\frac{S_t}{K}\\biggr)\\biggr) - \\Phi\\biggl( \\delta_{+}^{T-t}\\biggl(\\frac{S_t}{B}\\biggr)\\biggr)$$\n",
    "\n",
    "$$-\\biggl(\\frac{B}{S_t}\\biggr)^{1+\\frac{2r}{\\sigma^2}}\\biggl(\\Phi\\biggl( \\delta_{+}^{T-t}\\biggl(\\frac{B^2}{KS_T}\\biggr)\\biggr) - \\Phi\\biggl( \\delta_{+}^{T-t}\\biggl(\\frac{B}{S_t}\\biggr)\\biggr) \\biggr)\\biggr\\}$$\n",
    "\n",
    "$$-e^{-r(T-t)}K\\mathbb{1}_{\\{M^{T}_0 < B \\}}\\biggl\\{\\Phi\\biggl( \\delta_{-}^{T-t}\\biggl(\\frac{S_t}{K}\\biggr)\\biggr) - \\Phi\\biggl( \\delta_{-}^{T-t}\\biggl(\\frac{S_t}{B}\\biggr)\\biggr)$$\n",
    "\n",
    "$$-\\biggl(\\frac{S_t}{B}\\biggr)^{1+\\frac{2r}{\\sigma^2}}\\biggl(\\Phi\\biggl( \\delta_{-}^{T-t}\\biggl(\\frac{B^2}{KS_T}\\biggr)\\biggr) - \\Phi\\biggl( \\delta_{-}^{T-t}\\biggl(\\frac{B}{S_t}\\biggr)\\biggr) \\biggr)\\biggr\\}$$\n",
    "\n",
    "where\n",
    "$$\\delta^{\\tau}_{\\pm} = \\frac{1}{\\sigma\\sqrt{\\tau}}\\biggl(\\log{s} + (r \\pm \\frac{\\sigma^2}{2})\\tau\\biggr)$$"
   ]
  },
  {
   "cell_type": "markdown",
   "id": "512c7562",
   "metadata": {},
   "source": [
    "### b) Up-and-out barrier put option\n",
    "- if $B \\leq K$\n",
    "$$e^{-(T-t)r}\\mathbb{E}^{Q}\\biggl[(K - S_T)^{+} \\mathbb{1}_{\\{M^{T}_0 < B\\}} \\big|  \\mathcal F_t\\biggr]$$\n",
    "$$=S_t\\mathbb{1}_{\\{M^{T}_0 < B\\}}\\biggl(\\Phi\\biggl(\\delta^{T-t}_{+}\\biggl(\\frac{S_t}{B}\\biggr) \\biggr)-1-\\biggl(\\frac{B}{S_t}\\biggr)^{1+\\frac{2r}{\\sigma^{2}}} \\biggl(\\Phi\\biggl(\\delta^{T-t}_{+}\\biggl(\\frac{B}{S_t}\\biggr)\\biggr)-1\\biggr)\\biggr)$$\n",
    "\n",
    "$$-e^{-r(T-t)}K\\mathbb{1}_{\\{M^{T}_0 < B\\}}\\biggl(\\Phi\\biggl(\\delta^{T-t}_{-}\\biggl(\\frac{S_t}{B}\\biggr) \\biggr)-1-\\biggl(\\frac{B}{S_t}\\biggr)^{1-\\frac{2r}{\\sigma^{2}}} \\biggl(\\Phi\\biggl(\\delta^{T-t}_{-}\\biggl(\\frac{B}{S_t}\\biggr)\\biggr)-1\\biggr)\\biggr)$$\n",
    "\n",
    "- if $K \\leq B$\n",
    "$$e^{-(T-t)r}\\mathbb{E}^{Q}\\biggl[(K - S_T)^{+} \\mathbb{1}_{\\{M^{T}_0 < B\\}} \\big|  \\mathcal F_t\\biggr]$$\n",
    "$$=S_t\\mathbb{1}_{\\{M^{T}_0 < B\\}}\\biggl(\\Phi\\biggl(\\delta^{T-t}_{+}\\biggl(\\frac{S_t}{K}\\biggr) \\biggr)-1-\\biggl(\\frac{B}{S_t}\\biggr)^{1+\\frac{2r}{\\sigma^{2}}} \\biggl(\\Phi\\biggl(\\delta^{T-t}_{+}\\biggl(\\frac{B^2}{KS_t}\\biggr)\\biggr)-1\\biggr)\\biggr)$$\n",
    "\n",
    "$$-e^{-r(T-t)}K\\mathbb{1}_{\\{M^{T}_0 < B\\}}\\biggl(\\Phi\\biggl(\\delta^{T-t}_{-}\\biggl(\\frac{S_t}{K}\\biggr) \\biggr)-1-\\biggl(\\frac{B}{S_t}\\biggr)^{1-\\frac{2r}{\\sigma^{2}}} \\biggl(\\Phi\\biggl(\\delta^{T-t}_{-}\\biggl(\\frac{B^2}{KS_t}\\biggr)\\biggr)-1\\biggr)\\biggr)$$"
   ]
  },
  {
   "cell_type": "markdown",
   "id": "b801d3b8",
   "metadata": {},
   "source": [
    "### c) Down-and-out barrier call option\n",
    "Let us consider an down-and-out barrier call optin with maturity T, strike price K, barrier B, and payoff ( $0\\leq B \\leq K$ )\n",
    "$$C = (S_T - K)^+ \\mathbb{1}_{\\{\\tilde{M_T} < B\\}} = \\begin{cases} S_T - K \\qquad{if \\space \\mathop{min}\\limits_{0\\leq t \\leq T}} S_t > B\\\\0\\qquad\\qquad\\quad{if \\space \\mathop{min}\\limits_{0\\leq t \\leq T}} S_t \\leq B\\end{cases} $$\n",
    "\n",
    "the price of the up-and-out barrier call option:\n",
    "- if $B\\leq K$\n",
    "$$e^{-(T-t)r}\\mathbb{E}^{Q}\\biggl[(S_T - K)^{+} \\mathbb{1}_{\\{ \\mathop{min}\\limits_{0\\leq t \\leq T}S_t > B\\}} \\big| \\space\\mathcal F_t\\biggr]$$\n",
    "$$=S_t\\mathbb{1}_{\\{M^{T}_0 > B\\}}\\Phi\\biggl(\\delta^{T-t}_{+}\\biggl(\\frac{S_t}{K}\\biggr) \\biggr)-e^{-r(T-t)}K\\mathbb{1}_{\\{M^{T}_0 > B\\}}\\Phi\\biggl(\\delta^{T-t}_{-}\\biggl(\\frac{S_t}{K}\\biggr) \\biggr)$$\n",
    "\n",
    "$$-B\\mathbb{1}_{\\{M^{T}_0 > B\\}}\\biggl(\\frac{B}{S_t}\\biggr)^{\\frac{2r}{\\sigma^2}}\\Phi\\biggl(\\delta^{T-t}_{+}\\biggl(\\frac{B^2}{KS_t}\\biggr) \\biggr)+e^{-r(T-t)}K\\mathbb{1}_{\\{M^{T}_0 > B\\}}\\biggl(\\frac{S_t}{B}\\biggr)^{1-\\frac{2r}{\\sigma^2}}\\Phi\\biggl(\\delta^{T-t}_{-}\\biggl(\\frac{B^2}{KS_t}\\biggr) \\biggr)$$\n",
    "\n",
    "- if $B\\geq K$\n",
    "$$e^{-(T-t)r}\\mathbb{E}^{Q}\\biggl[(S_T - K)^{+} \\mathbb{1}_{\\{ \\mathop{min}\\limits_{0\\leq t \\leq T}S_t > B\\}} \\big| \\space\\mathcal F_t\\biggr]$$\n",
    "$$=S_t\\mathbb{1}_{\\{M^{T}_0 > B\\}}\\Phi\\biggl(\\delta^{T-t}_{+}\\biggl(\\frac{S_t}{B}\\biggr) \\biggr)-e^{-r(T-t)}K\\mathbb{1}_{\\{M^{T}_0 > B\\}}\\Phi\\biggl(\\delta^{T-t}_{-}\\biggl(\\frac{S_t}{B}\\biggr) \\biggr)$$\n",
    "\n",
    "$$-B\\mathbb{1}_{\\{M^{T}_0 > B\\}}\\biggl(\\frac{B}{S_t}\\biggr)^{\\frac{2r}{\\sigma^2}}\\Phi\\biggl(\\delta^{T-t}_{+}\\biggl(\\frac{B}{S_t}\\biggr) \\biggr)+e^{-r(T-t)}K\\mathbb{1}_{\\{M^{T}_0 > B\\}}\\biggl(\\frac{S_t}{B}\\biggr)^{1-\\frac{2r}{\\sigma^2}}\\Phi\\biggl(\\delta^{T-t}_{-}\\biggl(\\frac{B}{S_t}\\biggr) \\biggr)$$\n",
    "\n",
    "### d) Down-and-out barrier put option\n",
    "- if $B \\leq K$\n",
    "$$e^{-(T-t)r}\\mathbb{E}^{Q}\\biggl[(K - S_t)^{+} \\mathbb{1}_{\\{ \\mathop{min}\\limits_{0\\leq t \\leq T}S_t > B\\}} \\big| \\space\\mathcal F_t\\biggr]$$\n",
    "\n",
    "$$e^{-(T-t)r}\\mathbb{E}^{Q}\\biggl[(S_T - K)^{+} \\mathbb{1}_{\\{M^{T}_0 < B\\}} \\big| \\mathcal F_t\\biggr]$$\n",
    "$$=S_t \\mathbb{1}_{\\{M^{T}_0 > B\\}}\\biggl\\{\\Phi\\biggl( \\delta_{+}^{T-t}\\biggl(\\frac{S_t}{K}\\biggr)\\biggr) - \\Phi\\biggl( \\delta_{+}^{T-t}\\biggl(\\frac{S_t}{B}\\biggr)\\biggr)$$\n",
    "\n",
    "$$-\\biggl(\\frac{B}{S_t}\\biggr)^{1+\\frac{2r}{\\sigma^2}}\\biggl(\\Phi\\biggl( \\delta_{+}^{T-t}\\biggl(\\frac{B^2}{KS_T}\\biggr)\\biggr) - \\Phi\\biggl( \\delta_{+}^{T-t}\\biggl(\\frac{B}{S_t}\\biggr)\\biggr) \\biggr)\\biggr\\}$$\n",
    "\n",
    "$$-e^{-r(T-t)}K\\mathbb{1}_{\\{M^{T}_0 > B \\}}\\biggl\\{\\Phi\\biggl( \\delta_{-}^{T-t}\\biggl(\\frac{S_t}{K}\\biggr)\\biggr) - \\Phi\\biggl( \\delta_{-}^{T-t}\\biggl(\\frac{S_t}{B}\\biggr)\\biggr)$$\n",
    "\n",
    "$$-\\biggl(\\frac{S_t}{B}\\biggr)^{1+\\frac{2r}{\\sigma^2}}\\biggl(\\Phi\\biggl( \\delta_{-}^{T-t}\\biggl(\\frac{B^2}{KS_T}\\biggr)\\biggr) - \\Phi\\biggl( \\delta_{-}^{T-t}\\biggl(\\frac{B}{S_t}\\biggr)\\biggr) \\biggr)\\biggr\\}$$\n",
    "\n",
    "while the price vanishes when  $K \\leq B$\n",
    "\n",
    "### d) Down-and-in and Up-and-in barrier  option\n",
    "For every in option, we can use in-out parity to get the answer, and if you want to understand more detailed mathematics, I  recommend you to read related books\n"
   ]
  },
  {
   "cell_type": "code",
   "execution_count": 37,
   "id": "7967d02a",
   "metadata": {},
   "outputs": [],
   "source": [
    "def Up_Out_Call(S,K,r,T,sigma,B):\n",
    "    delta_positive=lambda x:(np.log(x) + (r + sigma**2/2)*T)/(sigma*np.sqrt(T))\n",
    "    delta_negative=lambda x:(np.log(x) + (r - sigma**2/2)*T)/(sigma*np.sqrt(T))\n",
    "    temp = S * ( ss.norm.cdf( delta_positive(S/K) ) - ss.norm.cdf( delta_positive(S/B) ) ) \\\n",
    "          - np.exp(-r*T) * K * ( ss.norm.cdf( delta_negative(S/K) ) - ss.norm.cdf( delta_negative(S/B) ) ) \\\n",
    "          - B * (S/B)**(-2*r/sigma**2) * ( ss.norm.cdf( delta_positive(B**2/(S*K) ) ) - ss.norm.cdf( delta_positive(B/S) ) ) \\\n",
    "          + np.exp(-r*T) * K * (S/B)**(-2*r/sig**2 + 1) * \\\n",
    "          ( ss.norm.cdf( delta_negative(B**2/(S*K) ) ) - ss.norm.cdf( delta_negative(B/S) ) )\n",
    "    return temp"
   ]
  },
  {
   "cell_type": "code",
   "execution_count": 33,
   "id": "5bd1b515",
   "metadata": {},
   "outputs": [],
   "source": [
    "S=90\n",
    "K=100\n",
    "B=120\n",
    "T=1\n",
    "r=0.01\n",
    "sigma=0.1"
   ]
  },
  {
   "cell_type": "code",
   "execution_count": 38,
   "id": "b866a16c",
   "metadata": {},
   "outputs": [
    {
     "data": {
      "text/plain": [
       "0.7651321464054976"
      ]
     },
     "execution_count": 38,
     "metadata": {},
     "output_type": "execute_result"
    }
   ],
   "source": [
    "Up_Out_Call(S,K,r,T,sigma,B)"
   ]
  },
  {
   "cell_type": "markdown",
   "id": "3fa263c9",
   "metadata": {},
   "source": [
    "### MonteCarlo Simulation:"
   ]
  },
  {
   "cell_type": "code",
   "execution_count": 39,
   "id": "ce982153",
   "metadata": {},
   "outputs": [
    {
     "name": "stdout",
     "output_type": "stream",
     "text": [
      "The price of the Up and Out call option by Monte Carlo is:  0.7744439787972124\n"
     ]
    }
   ],
   "source": [
    "N = 10000\n",
    "paths = 50000\n",
    "dt = T/(N-1)          # time interval\n",
    "\n",
    "#path generation\n",
    "X_0 = np.zeros((paths,1))\n",
    "increments = ss.norm.rvs(loc=(r-sig**2/2)*dt, scale=np.sqrt(dt)*sig, size=(paths,N-1))\n",
    "X = np.concatenate((X_0,increments), axis=1).cumsum(1)\n",
    "St = S * np.exp(X)\n",
    "\n",
    "M = np.amax(St, axis=1)       # maximum of each path\n",
    "MM = np.amin(St, axis=1)      # minimum of each path\n",
    "\n",
    "# Up and Out   --  Discounted expected payoff\n",
    "MC_barrier_u = np.exp(-r * T) * (np.maximum( St[:,-1] - K, 0 ) @ (M<B) )/ paths\n",
    "\n",
    "print(\"The price of the Up and Out call option by Monte Carlo is: \", MC_barrier_u)\n"
   ]
  },
  {
   "cell_type": "code",
   "execution_count": null,
   "id": "e83a09b6",
   "metadata": {},
   "outputs": [],
   "source": []
  }
 ],
 "metadata": {
  "kernelspec": {
   "display_name": "Python 3.8 (ipykernel)",
   "language": "python",
   "name": "python3"
  },
  "language_info": {
   "codemirror_mode": {
    "name": "ipython",
    "version": 3
   },
   "file_extension": ".py",
   "mimetype": "text/x-python",
   "name": "python",
   "nbconvert_exporter": "python",
   "pygments_lexer": "ipython3",
   "version": "3.8.10"
  }
 },
 "nbformat": 4,
 "nbformat_minor": 5
}
